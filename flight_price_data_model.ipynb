{
 "cells": [
  {
   "cell_type": "markdown",
   "id": "22522568",
   "metadata": {},
   "source": [
    "Loading the DataSet"
   ]
  },
  {
   "cell_type": "code",
   "execution_count": 4,
   "id": "907f8303",
   "metadata": {},
   "outputs": [],
   "source": [
    "import pandas as pd\n",
    "import numpy as np"
   ]
  },
  {
   "cell_type": "code",
   "execution_count": 5,
   "id": "81788b13",
   "metadata": {},
   "outputs": [
    {
     "data": {
      "application/vnd.microsoft.datawrangler.viewer.v0+json": {
       "columns": [
        {
         "name": "index",
         "rawType": "int64",
         "type": "integer"
        },
        {
         "name": "Airline",
         "rawType": "object",
         "type": "string"
        },
        {
         "name": "Date_of_Journey",
         "rawType": "object",
         "type": "string"
        },
        {
         "name": "Source",
         "rawType": "object",
         "type": "string"
        },
        {
         "name": "Destination",
         "rawType": "object",
         "type": "string"
        },
        {
         "name": "Route",
         "rawType": "object",
         "type": "string"
        },
        {
         "name": "Dep_Time",
         "rawType": "object",
         "type": "string"
        },
        {
         "name": "Arrival_Time",
         "rawType": "object",
         "type": "string"
        },
        {
         "name": "Duration",
         "rawType": "object",
         "type": "string"
        },
        {
         "name": "Total_Stops",
         "rawType": "object",
         "type": "string"
        },
        {
         "name": "Additional_Info",
         "rawType": "object",
         "type": "string"
        },
        {
         "name": "Price",
         "rawType": "int64",
         "type": "integer"
        }
       ],
       "ref": "e33ef21f-33b9-48fb-a84e-2c7ca49a72eb",
       "rows": [
        [
         "0",
         "IndiGo",
         "24/03/2019",
         "Banglore",
         "New Delhi",
         "BLR → DEL",
         "22:20",
         "01:10 22 Mar",
         "2h 50m",
         "non-stop",
         "No info",
         "3897"
        ],
        [
         "1",
         "Air India",
         "1/05/2019",
         "Kolkata",
         "Banglore",
         "CCU → IXR → BBI → BLR",
         "05:50",
         "13:15",
         "7h 25m",
         "2 stops",
         "No info",
         "7662"
        ],
        [
         "2",
         "Jet Airways",
         "9/06/2019",
         "Delhi",
         "Cochin",
         "DEL → LKO → BOM → COK",
         "09:25",
         "04:25 10 Jun",
         "19h",
         "2 stops",
         "No info",
         "13882"
        ],
        [
         "3",
         "IndiGo",
         "12/05/2019",
         "Kolkata",
         "Banglore",
         "CCU → NAG → BLR",
         "18:05",
         "23:30",
         "5h 25m",
         "1 stop",
         "No info",
         "6218"
        ],
        [
         "4",
         "IndiGo",
         "01/03/2019",
         "Banglore",
         "New Delhi",
         "BLR → NAG → DEL",
         "16:50",
         "21:35",
         "4h 45m",
         "1 stop",
         "No info",
         "13302"
        ]
       ],
       "shape": {
        "columns": 11,
        "rows": 5
       }
      },
      "text/html": [
       "<div>\n",
       "<style scoped>\n",
       "    .dataframe tbody tr th:only-of-type {\n",
       "        vertical-align: middle;\n",
       "    }\n",
       "\n",
       "    .dataframe tbody tr th {\n",
       "        vertical-align: top;\n",
       "    }\n",
       "\n",
       "    .dataframe thead th {\n",
       "        text-align: right;\n",
       "    }\n",
       "</style>\n",
       "<table border=\"1\" class=\"dataframe\">\n",
       "  <thead>\n",
       "    <tr style=\"text-align: right;\">\n",
       "      <th></th>\n",
       "      <th>Airline</th>\n",
       "      <th>Date_of_Journey</th>\n",
       "      <th>Source</th>\n",
       "      <th>Destination</th>\n",
       "      <th>Route</th>\n",
       "      <th>Dep_Time</th>\n",
       "      <th>Arrival_Time</th>\n",
       "      <th>Duration</th>\n",
       "      <th>Total_Stops</th>\n",
       "      <th>Additional_Info</th>\n",
       "      <th>Price</th>\n",
       "    </tr>\n",
       "  </thead>\n",
       "  <tbody>\n",
       "    <tr>\n",
       "      <th>0</th>\n",
       "      <td>IndiGo</td>\n",
       "      <td>24/03/2019</td>\n",
       "      <td>Banglore</td>\n",
       "      <td>New Delhi</td>\n",
       "      <td>BLR → DEL</td>\n",
       "      <td>22:20</td>\n",
       "      <td>01:10 22 Mar</td>\n",
       "      <td>2h 50m</td>\n",
       "      <td>non-stop</td>\n",
       "      <td>No info</td>\n",
       "      <td>3897</td>\n",
       "    </tr>\n",
       "    <tr>\n",
       "      <th>1</th>\n",
       "      <td>Air India</td>\n",
       "      <td>1/05/2019</td>\n",
       "      <td>Kolkata</td>\n",
       "      <td>Banglore</td>\n",
       "      <td>CCU → IXR → BBI → BLR</td>\n",
       "      <td>05:50</td>\n",
       "      <td>13:15</td>\n",
       "      <td>7h 25m</td>\n",
       "      <td>2 stops</td>\n",
       "      <td>No info</td>\n",
       "      <td>7662</td>\n",
       "    </tr>\n",
       "    <tr>\n",
       "      <th>2</th>\n",
       "      <td>Jet Airways</td>\n",
       "      <td>9/06/2019</td>\n",
       "      <td>Delhi</td>\n",
       "      <td>Cochin</td>\n",
       "      <td>DEL → LKO → BOM → COK</td>\n",
       "      <td>09:25</td>\n",
       "      <td>04:25 10 Jun</td>\n",
       "      <td>19h</td>\n",
       "      <td>2 stops</td>\n",
       "      <td>No info</td>\n",
       "      <td>13882</td>\n",
       "    </tr>\n",
       "    <tr>\n",
       "      <th>3</th>\n",
       "      <td>IndiGo</td>\n",
       "      <td>12/05/2019</td>\n",
       "      <td>Kolkata</td>\n",
       "      <td>Banglore</td>\n",
       "      <td>CCU → NAG → BLR</td>\n",
       "      <td>18:05</td>\n",
       "      <td>23:30</td>\n",
       "      <td>5h 25m</td>\n",
       "      <td>1 stop</td>\n",
       "      <td>No info</td>\n",
       "      <td>6218</td>\n",
       "    </tr>\n",
       "    <tr>\n",
       "      <th>4</th>\n",
       "      <td>IndiGo</td>\n",
       "      <td>01/03/2019</td>\n",
       "      <td>Banglore</td>\n",
       "      <td>New Delhi</td>\n",
       "      <td>BLR → NAG → DEL</td>\n",
       "      <td>16:50</td>\n",
       "      <td>21:35</td>\n",
       "      <td>4h 45m</td>\n",
       "      <td>1 stop</td>\n",
       "      <td>No info</td>\n",
       "      <td>13302</td>\n",
       "    </tr>\n",
       "  </tbody>\n",
       "</table>\n",
       "</div>"
      ],
      "text/plain": [
       "       Airline Date_of_Journey    Source Destination                  Route  \\\n",
       "0       IndiGo      24/03/2019  Banglore   New Delhi              BLR → DEL   \n",
       "1    Air India       1/05/2019   Kolkata    Banglore  CCU → IXR → BBI → BLR   \n",
       "2  Jet Airways       9/06/2019     Delhi      Cochin  DEL → LKO → BOM → COK   \n",
       "3       IndiGo      12/05/2019   Kolkata    Banglore        CCU → NAG → BLR   \n",
       "4       IndiGo      01/03/2019  Banglore   New Delhi        BLR → NAG → DEL   \n",
       "\n",
       "  Dep_Time  Arrival_Time Duration Total_Stops Additional_Info  Price  \n",
       "0    22:20  01:10 22 Mar   2h 50m    non-stop         No info   3897  \n",
       "1    05:50         13:15   7h 25m     2 stops         No info   7662  \n",
       "2    09:25  04:25 10 Jun      19h     2 stops         No info  13882  \n",
       "3    18:05         23:30   5h 25m      1 stop         No info   6218  \n",
       "4    16:50         21:35   4h 45m      1 stop         No info  13302  "
      ]
     },
     "execution_count": 5,
     "metadata": {},
     "output_type": "execute_result"
    }
   ],
   "source": [
    "data = pd.read_excel('flight_price.xlsx')\n",
    "data.head()"
   ]
  },
  {
   "cell_type": "code",
   "execution_count": 6,
   "id": "6d5caea0",
   "metadata": {},
   "outputs": [
    {
     "name": "stdout",
     "output_type": "stream",
     "text": [
      "the description of DataSet is \n",
      "\n",
      "<class 'pandas.core.frame.DataFrame'>\n",
      "RangeIndex: 10683 entries, 0 to 10682\n",
      "Data columns (total 11 columns):\n",
      " #   Column           Non-Null Count  Dtype \n",
      "---  ------           --------------  ----- \n",
      " 0   Airline          10683 non-null  object\n",
      " 1   Date_of_Journey  10683 non-null  object\n",
      " 2   Source           10683 non-null  object\n",
      " 3   Destination      10683 non-null  object\n",
      " 4   Route            10682 non-null  object\n",
      " 5   Dep_Time         10683 non-null  object\n",
      " 6   Arrival_Time     10683 non-null  object\n",
      " 7   Duration         10683 non-null  object\n",
      " 8   Total_Stops      10682 non-null  object\n",
      " 9   Additional_Info  10683 non-null  object\n",
      " 10  Price            10683 non-null  int64 \n",
      "dtypes: int64(1), object(10)\n",
      "memory usage: 918.2+ KB\n"
     ]
    }
   ],
   "source": [
    "print(\"the description of DataSet is \\n\")\n",
    "data.info()"
   ]
  },
  {
   "cell_type": "code",
   "execution_count": 7,
   "id": "28a98c8a",
   "metadata": {},
   "outputs": [
    {
     "name": "stdout",
     "output_type": "stream",
     "text": [
      "Type columns of the DataSet are \n",
      "\n"
     ]
    },
    {
     "data": {
      "text/plain": [
       "Index(['Airline', 'Date_of_Journey', 'Source', 'Destination', 'Route',\n",
       "       'Dep_Time', 'Arrival_Time', 'Duration', 'Total_Stops',\n",
       "       'Additional_Info', 'Price'],\n",
       "      dtype='object')"
      ]
     },
     "execution_count": 7,
     "metadata": {},
     "output_type": "execute_result"
    }
   ],
   "source": [
    "print(\"Type columns of the DataSet are \\n\")\n",
    "data.columns"
   ]
  },
  {
   "cell_type": "code",
   "execution_count": 8,
   "id": "7e21daa5",
   "metadata": {},
   "outputs": [
    {
     "data": {
      "application/vnd.microsoft.datawrangler.viewer.v0+json": {
       "columns": [
        {
         "name": "index",
         "rawType": "object",
         "type": "string"
        },
        {
         "name": "Price",
         "rawType": "float64",
         "type": "float"
        }
       ],
       "ref": "eb5e918f-0ef6-4184-af72-9030a9d4a891",
       "rows": [
        [
         "count",
         "10683.0"
        ],
        [
         "mean",
         "9087.064120565385"
        ],
        [
         "std",
         "4611.3591668171175"
        ],
        [
         "min",
         "1759.0"
        ],
        [
         "25%",
         "5277.0"
        ],
        [
         "50%",
         "8372.0"
        ],
        [
         "75%",
         "12373.0"
        ],
        [
         "max",
         "79512.0"
        ]
       ],
       "shape": {
        "columns": 1,
        "rows": 8
       }
      },
      "text/html": [
       "<div>\n",
       "<style scoped>\n",
       "    .dataframe tbody tr th:only-of-type {\n",
       "        vertical-align: middle;\n",
       "    }\n",
       "\n",
       "    .dataframe tbody tr th {\n",
       "        vertical-align: top;\n",
       "    }\n",
       "\n",
       "    .dataframe thead th {\n",
       "        text-align: right;\n",
       "    }\n",
       "</style>\n",
       "<table border=\"1\" class=\"dataframe\">\n",
       "  <thead>\n",
       "    <tr style=\"text-align: right;\">\n",
       "      <th></th>\n",
       "      <th>Price</th>\n",
       "    </tr>\n",
       "  </thead>\n",
       "  <tbody>\n",
       "    <tr>\n",
       "      <th>count</th>\n",
       "      <td>10683.000000</td>\n",
       "    </tr>\n",
       "    <tr>\n",
       "      <th>mean</th>\n",
       "      <td>9087.064121</td>\n",
       "    </tr>\n",
       "    <tr>\n",
       "      <th>std</th>\n",
       "      <td>4611.359167</td>\n",
       "    </tr>\n",
       "    <tr>\n",
       "      <th>min</th>\n",
       "      <td>1759.000000</td>\n",
       "    </tr>\n",
       "    <tr>\n",
       "      <th>25%</th>\n",
       "      <td>5277.000000</td>\n",
       "    </tr>\n",
       "    <tr>\n",
       "      <th>50%</th>\n",
       "      <td>8372.000000</td>\n",
       "    </tr>\n",
       "    <tr>\n",
       "      <th>75%</th>\n",
       "      <td>12373.000000</td>\n",
       "    </tr>\n",
       "    <tr>\n",
       "      <th>max</th>\n",
       "      <td>79512.000000</td>\n",
       "    </tr>\n",
       "  </tbody>\n",
       "</table>\n",
       "</div>"
      ],
      "text/plain": [
       "              Price\n",
       "count  10683.000000\n",
       "mean    9087.064121\n",
       "std     4611.359167\n",
       "min     1759.000000\n",
       "25%     5277.000000\n",
       "50%     8372.000000\n",
       "75%    12373.000000\n",
       "max    79512.000000"
      ]
     },
     "execution_count": 8,
     "metadata": {},
     "output_type": "execute_result"
    }
   ],
   "source": [
    "data.describe()"
   ]
  },
  {
   "cell_type": "code",
   "execution_count": 9,
   "id": "59b8f10e",
   "metadata": {},
   "outputs": [
    {
     "data": {
      "text/plain": [
       "array(['non-stop', '2 stops', '1 stop', '3 stops', nan, '4 stops'],\n",
       "      dtype=object)"
      ]
     },
     "execution_count": 9,
     "metadata": {},
     "output_type": "execute_result"
    }
   ],
   "source": [
    "data.Total_Stops.unique()"
   ]
  },
  {
   "cell_type": "code",
   "execution_count": 10,
   "id": "5cc4498e",
   "metadata": {},
   "outputs": [],
   "source": [
    "data['Total_Stops_cleaned'] = data['Total_Stops'].map({'non-stop' : 0, '1 stop' : 1, '2 stops' : 2, '3 stops' : 3, '4 stops' : 4})"
   ]
  },
  {
   "cell_type": "code",
   "execution_count": 11,
   "id": "dbb0837d",
   "metadata": {},
   "outputs": [
    {
     "data": {
      "text/plain": [
       "array([0., 2., 1., 3., 4.])"
      ]
     },
     "execution_count": 11,
     "metadata": {},
     "output_type": "execute_result"
    }
   ],
   "source": [
    "data['Total_Stops_cleaned'] = data['Total_Stops_cleaned'].fillna(0)\n",
    "data['Total_Stops_cleaned'].unique()"
   ]
  },
  {
   "cell_type": "code",
   "execution_count": 12,
   "id": "89880e05",
   "metadata": {},
   "outputs": [
    {
     "name": "stdout",
     "output_type": "stream",
     "text": [
      "<class 'pandas.core.frame.DataFrame'>\n",
      "RangeIndex: 10683 entries, 0 to 10682\n",
      "Data columns (total 12 columns):\n",
      " #   Column               Non-Null Count  Dtype  \n",
      "---  ------               --------------  -----  \n",
      " 0   Airline              10683 non-null  object \n",
      " 1   Date_of_Journey      10683 non-null  object \n",
      " 2   Source               10683 non-null  object \n",
      " 3   Destination          10683 non-null  object \n",
      " 4   Route                10682 non-null  object \n",
      " 5   Dep_Time             10683 non-null  object \n",
      " 6   Arrival_Time         10683 non-null  object \n",
      " 7   Duration             10683 non-null  object \n",
      " 8   Total_Stops          10682 non-null  object \n",
      " 9   Additional_Info      10683 non-null  object \n",
      " 10  Price                10683 non-null  int64  \n",
      " 11  Total_Stops_cleaned  10683 non-null  float64\n",
      "dtypes: float64(1), int64(1), object(10)\n",
      "memory usage: 1001.7+ KB\n"
     ]
    }
   ],
   "source": [
    "data.info()"
   ]
  },
  {
   "cell_type": "code",
   "execution_count": 13,
   "id": "3e338571",
   "metadata": {},
   "outputs": [],
   "source": [
    "data.drop('Total_Stops', axis=1, inplace=True)"
   ]
  },
  {
   "cell_type": "code",
   "execution_count": 14,
   "id": "d191447c",
   "metadata": {},
   "outputs": [
    {
     "data": {
      "text/plain": [
       "Index(['Airline', 'Date_of_Journey', 'Source', 'Destination', 'Route',\n",
       "       'Dep_Time', 'Arrival_Time', 'Duration', 'Additional_Info', 'Price',\n",
       "       'Total_Stops_cleaned'],\n",
       "      dtype='object')"
      ]
     },
     "execution_count": 14,
     "metadata": {},
     "output_type": "execute_result"
    }
   ],
   "source": [
    "data.columns"
   ]
  },
  {
   "cell_type": "code",
   "execution_count": 15,
   "id": "a6727508",
   "metadata": {},
   "outputs": [
    {
     "data": {
      "application/vnd.microsoft.datawrangler.viewer.v0+json": {
       "columns": [
        {
         "name": "index",
         "rawType": "object",
         "type": "string"
        },
        {
         "name": "0",
         "rawType": "int64",
         "type": "integer"
        }
       ],
       "ref": "5b20ddb3-724a-4a2a-96bf-2650434d09d4",
       "rows": [
        [
         "Airline",
         "0"
        ],
        [
         "Date_of_Journey",
         "0"
        ],
        [
         "Source",
         "0"
        ],
        [
         "Destination",
         "0"
        ],
        [
         "Route",
         "1"
        ],
        [
         "Dep_Time",
         "0"
        ],
        [
         "Arrival_Time",
         "0"
        ],
        [
         "Duration",
         "0"
        ],
        [
         "Additional_Info",
         "0"
        ],
        [
         "Price",
         "0"
        ],
        [
         "Total_Stops_cleaned",
         "0"
        ]
       ],
       "shape": {
        "columns": 1,
        "rows": 11
       }
      },
      "text/plain": [
       "Airline                0\n",
       "Date_of_Journey        0\n",
       "Source                 0\n",
       "Destination            0\n",
       "Route                  1\n",
       "Dep_Time               0\n",
       "Arrival_Time           0\n",
       "Duration               0\n",
       "Additional_Info        0\n",
       "Price                  0\n",
       "Total_Stops_cleaned    0\n",
       "dtype: int64"
      ]
     },
     "execution_count": 15,
     "metadata": {},
     "output_type": "execute_result"
    }
   ],
   "source": [
    "data.isnull().sum()"
   ]
  },
  {
   "cell_type": "code",
   "execution_count": 16,
   "id": "b1f05a74",
   "metadata": {},
   "outputs": [
    {
     "data": {
      "application/vnd.microsoft.datawrangler.viewer.v0+json": {
       "columns": [
        {
         "name": "index",
         "rawType": "int64",
         "type": "integer"
        },
        {
         "name": "Duration",
         "rawType": "object",
         "type": "string"
        }
       ],
       "ref": "0ef8a835-8a54-43bd-8009-b196da71dca9",
       "rows": [
        [
         "0",
         "2h 50m"
        ],
        [
         "1",
         "7h 25m"
        ],
        [
         "2",
         "19h"
        ],
        [
         "3",
         "5h 25m"
        ],
        [
         "4",
         "4h 45m"
        ]
       ],
       "shape": {
        "columns": 1,
        "rows": 5
       }
      },
      "text/plain": [
       "0    2h 50m\n",
       "1    7h 25m\n",
       "2       19h\n",
       "3    5h 25m\n",
       "4    4h 45m\n",
       "Name: Duration, dtype: object"
      ]
     },
     "execution_count": 16,
     "metadata": {},
     "output_type": "execute_result"
    }
   ],
   "source": [
    "data['Duration'].head()"
   ]
  },
  {
   "cell_type": "markdown",
   "id": "b15a33ca",
   "metadata": {},
   "source": [
    "Extracting Hours and Minutes in the Flight Duration"
   ]
  },
  {
   "cell_type": "code",
   "execution_count": 17,
   "id": "a4f1a23c",
   "metadata": {},
   "outputs": [],
   "source": [
    "def extract_total_mins(duration):\n",
    "    hours=0\n",
    "    mins=0\n",
    "\n",
    "    if 'h' in duration:\n",
    "        hours = int(duration.split('h')[0].strip())\n",
    "    \n",
    "    if 'm' in duration:\n",
    "        if 'h' in duration:\n",
    "            mins = int(duration.split('h')[1].strip().replace('m', '').strip())\n",
    "        else:\n",
    "            mins = int(duration.strip().replace('m', '').strip())\n",
    "    \n",
    "    return hours*60 + mins\n"
   ]
  },
  {
   "cell_type": "code",
   "execution_count": 18,
   "id": "c1f53567",
   "metadata": {},
   "outputs": [
    {
     "data": {
      "text/plain": [
       "Index(['Airline', 'Date_of_Journey', 'Source', 'Destination', 'Route',\n",
       "       'Dep_Time', 'Arrival_Time', 'Duration', 'Additional_Info', 'Price',\n",
       "       'Total_Stops_cleaned', 'Duration_total_mins'],\n",
       "      dtype='object')"
      ]
     },
     "execution_count": 18,
     "metadata": {},
     "output_type": "execute_result"
    }
   ],
   "source": [
    "data['Duration_total_mins'] = data['Duration'].apply(extract_total_mins)\n",
    "data.columns"
   ]
  },
  {
   "cell_type": "code",
   "execution_count": 19,
   "id": "7ceef45f",
   "metadata": {},
   "outputs": [
    {
     "name": "stdout",
     "output_type": "stream",
     "text": [
      "<class 'pandas.core.frame.DataFrame'>\n",
      "RangeIndex: 10683 entries, 0 to 10682\n",
      "Data columns (total 12 columns):\n",
      " #   Column               Non-Null Count  Dtype  \n",
      "---  ------               --------------  -----  \n",
      " 0   Airline              10683 non-null  object \n",
      " 1   Date_of_Journey      10683 non-null  object \n",
      " 2   Source               10683 non-null  object \n",
      " 3   Destination          10683 non-null  object \n",
      " 4   Route                10682 non-null  object \n",
      " 5   Dep_Time             10683 non-null  object \n",
      " 6   Arrival_Time         10683 non-null  object \n",
      " 7   Duration             10683 non-null  object \n",
      " 8   Additional_Info      10683 non-null  object \n",
      " 9   Price                10683 non-null  int64  \n",
      " 10  Total_Stops_cleaned  10683 non-null  float64\n",
      " 11  Duration_total_mins  10683 non-null  int64  \n",
      "dtypes: float64(1), int64(2), object(9)\n",
      "memory usage: 1001.7+ KB\n"
     ]
    }
   ],
   "source": [
    "data.info()"
   ]
  },
  {
   "cell_type": "code",
   "execution_count": 20,
   "id": "fdb8473e",
   "metadata": {},
   "outputs": [
    {
     "data": {
      "application/vnd.microsoft.datawrangler.viewer.v0+json": {
       "columns": [
        {
         "name": "index",
         "rawType": "int64",
         "type": "integer"
        },
        {
         "name": "Airline",
         "rawType": "object",
         "type": "string"
        },
        {
         "name": "Date_of_Journey",
         "rawType": "object",
         "type": "string"
        },
        {
         "name": "Source",
         "rawType": "object",
         "type": "string"
        },
        {
         "name": "Destination",
         "rawType": "object",
         "type": "string"
        },
        {
         "name": "Route",
         "rawType": "object",
         "type": "unknown"
        },
        {
         "name": "Dep_Time",
         "rawType": "object",
         "type": "string"
        },
        {
         "name": "Arrival_Time",
         "rawType": "object",
         "type": "string"
        },
        {
         "name": "Duration",
         "rawType": "object",
         "type": "string"
        },
        {
         "name": "Additional_Info",
         "rawType": "object",
         "type": "string"
        },
        {
         "name": "Price",
         "rawType": "int64",
         "type": "integer"
        },
        {
         "name": "Total_Stops_cleaned",
         "rawType": "float64",
         "type": "float"
        },
        {
         "name": "Duration_total_mins",
         "rawType": "int64",
         "type": "integer"
        }
       ],
       "ref": "f4c846bd-d52f-4790-89c9-b50b5135a51f",
       "rows": [
        [
         "0",
         "IndiGo",
         "24/03/2019",
         "Banglore",
         "New Delhi",
         "BLR → DEL",
         "22:20",
         "01:10 22 Mar",
         "2h 50m",
         "No info",
         "3897",
         "0.0",
         "170"
        ],
        [
         "1",
         "Air India",
         "1/05/2019",
         "Kolkata",
         "Banglore",
         "CCU → IXR → BBI → BLR",
         "05:50",
         "13:15",
         "7h 25m",
         "No info",
         "7662",
         "2.0",
         "445"
        ],
        [
         "2",
         "Jet Airways",
         "9/06/2019",
         "Delhi",
         "Cochin",
         "DEL → LKO → BOM → COK",
         "09:25",
         "04:25 10 Jun",
         "19h",
         "No info",
         "13882",
         "2.0",
         "1140"
        ],
        [
         "3",
         "IndiGo",
         "12/05/2019",
         "Kolkata",
         "Banglore",
         "CCU → NAG → BLR",
         "18:05",
         "23:30",
         "5h 25m",
         "No info",
         "6218",
         "1.0",
         "325"
        ],
        [
         "4",
         "IndiGo",
         "01/03/2019",
         "Banglore",
         "New Delhi",
         "BLR → NAG → DEL",
         "16:50",
         "21:35",
         "4h 45m",
         "No info",
         "13302",
         "1.0",
         "285"
        ],
        [
         "5",
         "SpiceJet",
         "24/06/2019",
         "Kolkata",
         "Banglore",
         "CCU → BLR",
         "09:00",
         "11:25",
         "2h 25m",
         "No info",
         "3873",
         "0.0",
         "145"
        ],
        [
         "6",
         "Jet Airways",
         "12/03/2019",
         "Banglore",
         "New Delhi",
         "BLR → BOM → DEL",
         "18:55",
         "10:25 13 Mar",
         "15h 30m",
         "In-flight meal not included",
         "11087",
         "1.0",
         "930"
        ],
        [
         "7",
         "Jet Airways",
         "01/03/2019",
         "Banglore",
         "New Delhi",
         "BLR → BOM → DEL",
         "08:00",
         "05:05 02 Mar",
         "21h 5m",
         "No info",
         "22270",
         "1.0",
         "1265"
        ],
        [
         "8",
         "Jet Airways",
         "12/03/2019",
         "Banglore",
         "New Delhi",
         "BLR → BOM → DEL",
         "08:55",
         "10:25 13 Mar",
         "25h 30m",
         "In-flight meal not included",
         "11087",
         "1.0",
         "1530"
        ],
        [
         "9",
         "Multiple carriers",
         "27/05/2019",
         "Delhi",
         "Cochin",
         "DEL → BOM → COK",
         "11:25",
         "19:15",
         "7h 50m",
         "No info",
         "8625",
         "1.0",
         "470"
        ],
        [
         "10",
         "Air India",
         "1/06/2019",
         "Delhi",
         "Cochin",
         "DEL → BLR → COK",
         "09:45",
         "23:00",
         "13h 15m",
         "No info",
         "8907",
         "1.0",
         "795"
        ],
        [
         "11",
         "IndiGo",
         "18/04/2019",
         "Kolkata",
         "Banglore",
         "CCU → BLR",
         "20:20",
         "22:55",
         "2h 35m",
         "No info",
         "4174",
         "0.0",
         "155"
        ],
        [
         "12",
         "Air India",
         "24/06/2019",
         "Chennai",
         "Kolkata",
         "MAA → CCU",
         "11:40",
         "13:55",
         "2h 15m",
         "No info",
         "4667",
         "0.0",
         "135"
        ],
        [
         "13",
         "Jet Airways",
         "9/05/2019",
         "Kolkata",
         "Banglore",
         "CCU → BOM → BLR",
         "21:10",
         "09:20 10 May",
         "12h 10m",
         "In-flight meal not included",
         "9663",
         "1.0",
         "730"
        ],
        [
         "14",
         "IndiGo",
         "24/04/2019",
         "Kolkata",
         "Banglore",
         "CCU → BLR",
         "17:15",
         "19:50",
         "2h 35m",
         "No info",
         "4804",
         "0.0",
         "155"
        ],
        [
         "15",
         "Air India",
         "3/03/2019",
         "Delhi",
         "Cochin",
         "DEL → AMD → BOM → COK",
         "16:40",
         "19:15 04 Mar",
         "26h 35m",
         "No info",
         "14011",
         "2.0",
         "1595"
        ],
        [
         "16",
         "SpiceJet",
         "15/04/2019",
         "Delhi",
         "Cochin",
         "DEL → PNQ → COK",
         "08:45",
         "13:15",
         "4h 30m",
         "No info",
         "5830",
         "1.0",
         "270"
        ],
        [
         "17",
         "Jet Airways",
         "12/06/2019",
         "Delhi",
         "Cochin",
         "DEL → BOM → COK",
         "14:00",
         "12:35 13 Jun",
         "22h 35m",
         "In-flight meal not included",
         "10262",
         "1.0",
         "1355"
        ],
        [
         "18",
         "Air India",
         "12/06/2019",
         "Delhi",
         "Cochin",
         "DEL → CCU → BOM → COK",
         "20:15",
         "19:15 13 Jun",
         "23h",
         "No info",
         "13381",
         "2.0",
         "1380"
        ],
        [
         "19",
         "Jet Airways",
         "27/05/2019",
         "Delhi",
         "Cochin",
         "DEL → BOM → COK",
         "16:00",
         "12:35 28 May",
         "20h 35m",
         "In-flight meal not included",
         "12898",
         "1.0",
         "1235"
        ],
        [
         "20",
         "GoAir",
         "6/03/2019",
         "Delhi",
         "Cochin",
         "DEL → BOM → COK",
         "14:10",
         "19:20",
         "5h 10m",
         "No info",
         "19495",
         "1.0",
         "310"
        ],
        [
         "21",
         "Air India",
         "21/03/2019",
         "Banglore",
         "New Delhi",
         "BLR → COK → DEL",
         "22:00",
         "13:20 19 Mar",
         "15h 20m",
         "No info",
         "6955",
         "1.0",
         "920"
        ],
        [
         "22",
         "IndiGo",
         "3/04/2019",
         "Banglore",
         "Delhi",
         "BLR → DEL",
         "04:00",
         "06:50",
         "2h 50m",
         "No info",
         "3943",
         "0.0",
         "170"
        ],
        [
         "23",
         "IndiGo",
         "1/05/2019",
         "Banglore",
         "Delhi",
         "BLR → DEL",
         "18:55",
         "21:50",
         "2h 55m",
         "No info",
         "4823",
         "0.0",
         "175"
        ],
        [
         "24",
         "Jet Airways",
         "6/05/2019",
         "Kolkata",
         "Banglore",
         "CCU → BOM → BLR",
         "18:55",
         "08:15 07 May",
         "13h 20m",
         "In-flight meal not included",
         "7757",
         "1.0",
         "800"
        ],
        [
         "25",
         "Jet Airways",
         "9/06/2019",
         "Delhi",
         "Cochin",
         "DEL → IDR → BOM → COK",
         "21:25",
         "12:35 10 Jun",
         "15h 10m",
         "No info",
         "13292",
         "2.0",
         "910"
        ],
        [
         "26",
         "IndiGo",
         "1/06/2019",
         "Delhi",
         "Cochin",
         "DEL → LKO → COK",
         "21:50",
         "03:35 02 Jun",
         "5h 45m",
         "No info",
         "8238",
         "1.0",
         "345"
        ],
        [
         "27",
         "GoAir",
         "15/05/2019",
         "Delhi",
         "Cochin",
         "DEL → BOM → COK",
         "07:00",
         "12:55",
         "5h 55m",
         "No info",
         "7682",
         "1.0",
         "355"
        ],
        [
         "28",
         "Vistara",
         "18/06/2019",
         "Banglore",
         "Delhi",
         "BLR → DEL",
         "09:45",
         "12:35",
         "2h 50m",
         "No info",
         "4668",
         "0.0",
         "170"
        ],
        [
         "29",
         "Vistara",
         "15/06/2019",
         "Chennai",
         "Kolkata",
         "MAA → CCU",
         "07:05",
         "09:20",
         "2h 15m",
         "No info",
         "3687",
         "0.0",
         "135"
        ],
        [
         "30",
         "Vistara",
         "18/06/2019",
         "Chennai",
         "Kolkata",
         "MAA → CCU",
         "07:05",
         "09:20",
         "2h 15m",
         "No info",
         "3687",
         "0.0",
         "135"
        ],
        [
         "31",
         "Air India",
         "1/05/2019",
         "Kolkata",
         "Banglore",
         "CCU → GAU → DEL → BLR",
         "09:50",
         "23:15",
         "13h 25m",
         "No info",
         "13227",
         "2.0",
         "805"
        ],
        [
         "32",
         "IndiGo",
         "6/04/2019",
         "Banglore",
         "Delhi",
         "BLR → DEL",
         "04:00",
         "06:50",
         "2h 50m",
         "No info",
         "4423",
         "0.0",
         "170"
        ],
        [
         "33",
         "Jet Airways",
         "15/06/2019",
         "Delhi",
         "Cochin",
         "DEL → NAG → BOM → COK",
         "14:35",
         "12:35 16 Jun",
         "22h",
         "In-flight meal not included",
         "10919",
         "2.0",
         "1320"
        ],
        [
         "34",
         "Jet Airways",
         "18/05/2019",
         "Delhi",
         "Cochin",
         "DEL → BOM → COK",
         "07:05",
         "12:35",
         "5h 30m",
         "In-flight meal not included",
         "12373",
         "1.0",
         "330"
        ],
        [
         "35",
         "IndiGo",
         "27/06/2019",
         "Delhi",
         "Cochin",
         "DEL → BOM → COK",
         "10:35",
         "21:00",
         "10h 25m",
         "No info",
         "5894",
         "1.0",
         "625"
        ],
        [
         "36",
         "SpiceJet",
         "21/05/2019",
         "Kolkata",
         "Banglore",
         "CCU → MAA → BLR",
         "15:05",
         "20:20",
         "5h 15m",
         "No info",
         "4649",
         "1.0",
         "315"
        ],
        [
         "37",
         "Air India",
         "18/05/2019",
         "Kolkata",
         "Banglore",
         "CCU → BLR",
         "14:15",
         "16:45",
         "2h 30m",
         "No info",
         "6245",
         "0.0",
         "150"
        ],
        [
         "38",
         "Jet Airways",
         "06/03/2019",
         "Banglore",
         "New Delhi",
         "BLR → BOM → DEL",
         "07:00",
         "13:15",
         "6h 15m",
         "No info",
         "19225",
         "1.0",
         "375"
        ],
        [
         "39",
         "Jet Airways",
         "3/06/2019",
         "Delhi",
         "Cochin",
         "DEL → BOM → COK",
         "07:05",
         "19:00",
         "11h 55m",
         "No info",
         "14924",
         "1.0",
         "715"
        ],
        [
         "40",
         "Multiple carriers",
         "21/05/2019",
         "Delhi",
         "Cochin",
         "DEL → HYD → COK",
         "07:05",
         "18:10",
         "11h 5m",
         "No info",
         "9646",
         "1.0",
         "665"
        ],
        [
         "41",
         "Air India",
         "15/03/2019",
         "Banglore",
         "New Delhi",
         "BLR → BOM → DEL",
         "06:45",
         "15:15",
         "8h 30m",
         "No info",
         "8714",
         "1.0",
         "510"
        ],
        [
         "42",
         "Jet Airways",
         "18/05/2019",
         "Delhi",
         "Cochin",
         "DEL → BOM → COK",
         "20:55",
         "19:00 19 May",
         "22h 5m",
         "In-flight meal not included",
         "12373",
         "1.0",
         "1325"
        ],
        [
         "43",
         "Air Asia",
         "6/05/2019",
         "Banglore",
         "Delhi",
         "BLR → DEL",
         "11:10",
         "13:55",
         "2h 45m",
         "No info",
         "3383",
         "0.0",
         "165"
        ],
        [
         "44",
         "Multiple carriers",
         "21/03/2019",
         "Delhi",
         "Cochin",
         "DEL → BOM → COK",
         "09:00",
         "21:00",
         "12h",
         "No info",
         "13062",
         "1.0",
         "720"
        ],
        [
         "45",
         "SpiceJet",
         "24/03/2019",
         "Banglore",
         "New Delhi",
         "BLR → DEL",
         "05:45",
         "08:35",
         "2h 50m",
         "No check-in baggage included",
         "3527",
         "0.0",
         "170"
        ],
        [
         "46",
         "IndiGo",
         "27/05/2019",
         "Banglore",
         "Delhi",
         "BLR → DEL",
         "04:00",
         "06:50",
         "2h 50m",
         "No info",
         "3943",
         "0.0",
         "170"
        ],
        [
         "47",
         "Air India",
         "3/05/2019",
         "Chennai",
         "Kolkata",
         "MAA → CCU",
         "11:40",
         "13:55",
         "2h 15m",
         "No info",
         "4667",
         "0.0",
         "135"
        ],
        [
         "48",
         "Air India",
         "15/05/2019",
         "Kolkata",
         "Banglore",
         "CCU → HYD → BLR",
         "19:00",
         "11:05 16 May",
         "16h 5m",
         "No info",
         "6117",
         "1.0",
         "965"
        ],
        [
         "49",
         "Jet Airways",
         "27/06/2019",
         "Delhi",
         "Cochin",
         "DEL → AMD → BOM → COK",
         "23:05",
         "19:00 28 Jun",
         "19h 55m",
         "In-flight meal not included",
         "11150",
         "2.0",
         "1195"
        ]
       ],
       "shape": {
        "columns": 12,
        "rows": 10683
       }
      },
      "text/html": [
       "<div>\n",
       "<style scoped>\n",
       "    .dataframe tbody tr th:only-of-type {\n",
       "        vertical-align: middle;\n",
       "    }\n",
       "\n",
       "    .dataframe tbody tr th {\n",
       "        vertical-align: top;\n",
       "    }\n",
       "\n",
       "    .dataframe thead th {\n",
       "        text-align: right;\n",
       "    }\n",
       "</style>\n",
       "<table border=\"1\" class=\"dataframe\">\n",
       "  <thead>\n",
       "    <tr style=\"text-align: right;\">\n",
       "      <th></th>\n",
       "      <th>Airline</th>\n",
       "      <th>Date_of_Journey</th>\n",
       "      <th>Source</th>\n",
       "      <th>Destination</th>\n",
       "      <th>Route</th>\n",
       "      <th>Dep_Time</th>\n",
       "      <th>Arrival_Time</th>\n",
       "      <th>Duration</th>\n",
       "      <th>Additional_Info</th>\n",
       "      <th>Price</th>\n",
       "      <th>Total_Stops_cleaned</th>\n",
       "      <th>Duration_total_mins</th>\n",
       "    </tr>\n",
       "  </thead>\n",
       "  <tbody>\n",
       "    <tr>\n",
       "      <th>0</th>\n",
       "      <td>IndiGo</td>\n",
       "      <td>24/03/2019</td>\n",
       "      <td>Banglore</td>\n",
       "      <td>New Delhi</td>\n",
       "      <td>BLR → DEL</td>\n",
       "      <td>22:20</td>\n",
       "      <td>01:10 22 Mar</td>\n",
       "      <td>2h 50m</td>\n",
       "      <td>No info</td>\n",
       "      <td>3897</td>\n",
       "      <td>0.0</td>\n",
       "      <td>170</td>\n",
       "    </tr>\n",
       "    <tr>\n",
       "      <th>1</th>\n",
       "      <td>Air India</td>\n",
       "      <td>1/05/2019</td>\n",
       "      <td>Kolkata</td>\n",
       "      <td>Banglore</td>\n",
       "      <td>CCU → IXR → BBI → BLR</td>\n",
       "      <td>05:50</td>\n",
       "      <td>13:15</td>\n",
       "      <td>7h 25m</td>\n",
       "      <td>No info</td>\n",
       "      <td>7662</td>\n",
       "      <td>2.0</td>\n",
       "      <td>445</td>\n",
       "    </tr>\n",
       "    <tr>\n",
       "      <th>2</th>\n",
       "      <td>Jet Airways</td>\n",
       "      <td>9/06/2019</td>\n",
       "      <td>Delhi</td>\n",
       "      <td>Cochin</td>\n",
       "      <td>DEL → LKO → BOM → COK</td>\n",
       "      <td>09:25</td>\n",
       "      <td>04:25 10 Jun</td>\n",
       "      <td>19h</td>\n",
       "      <td>No info</td>\n",
       "      <td>13882</td>\n",
       "      <td>2.0</td>\n",
       "      <td>1140</td>\n",
       "    </tr>\n",
       "    <tr>\n",
       "      <th>3</th>\n",
       "      <td>IndiGo</td>\n",
       "      <td>12/05/2019</td>\n",
       "      <td>Kolkata</td>\n",
       "      <td>Banglore</td>\n",
       "      <td>CCU → NAG → BLR</td>\n",
       "      <td>18:05</td>\n",
       "      <td>23:30</td>\n",
       "      <td>5h 25m</td>\n",
       "      <td>No info</td>\n",
       "      <td>6218</td>\n",
       "      <td>1.0</td>\n",
       "      <td>325</td>\n",
       "    </tr>\n",
       "    <tr>\n",
       "      <th>4</th>\n",
       "      <td>IndiGo</td>\n",
       "      <td>01/03/2019</td>\n",
       "      <td>Banglore</td>\n",
       "      <td>New Delhi</td>\n",
       "      <td>BLR → NAG → DEL</td>\n",
       "      <td>16:50</td>\n",
       "      <td>21:35</td>\n",
       "      <td>4h 45m</td>\n",
       "      <td>No info</td>\n",
       "      <td>13302</td>\n",
       "      <td>1.0</td>\n",
       "      <td>285</td>\n",
       "    </tr>\n",
       "    <tr>\n",
       "      <th>...</th>\n",
       "      <td>...</td>\n",
       "      <td>...</td>\n",
       "      <td>...</td>\n",
       "      <td>...</td>\n",
       "      <td>...</td>\n",
       "      <td>...</td>\n",
       "      <td>...</td>\n",
       "      <td>...</td>\n",
       "      <td>...</td>\n",
       "      <td>...</td>\n",
       "      <td>...</td>\n",
       "      <td>...</td>\n",
       "    </tr>\n",
       "    <tr>\n",
       "      <th>10678</th>\n",
       "      <td>Air Asia</td>\n",
       "      <td>9/04/2019</td>\n",
       "      <td>Kolkata</td>\n",
       "      <td>Banglore</td>\n",
       "      <td>CCU → BLR</td>\n",
       "      <td>19:55</td>\n",
       "      <td>22:25</td>\n",
       "      <td>2h 30m</td>\n",
       "      <td>No info</td>\n",
       "      <td>4107</td>\n",
       "      <td>0.0</td>\n",
       "      <td>150</td>\n",
       "    </tr>\n",
       "    <tr>\n",
       "      <th>10679</th>\n",
       "      <td>Air India</td>\n",
       "      <td>27/04/2019</td>\n",
       "      <td>Kolkata</td>\n",
       "      <td>Banglore</td>\n",
       "      <td>CCU → BLR</td>\n",
       "      <td>20:45</td>\n",
       "      <td>23:20</td>\n",
       "      <td>2h 35m</td>\n",
       "      <td>No info</td>\n",
       "      <td>4145</td>\n",
       "      <td>0.0</td>\n",
       "      <td>155</td>\n",
       "    </tr>\n",
       "    <tr>\n",
       "      <th>10680</th>\n",
       "      <td>Jet Airways</td>\n",
       "      <td>27/04/2019</td>\n",
       "      <td>Banglore</td>\n",
       "      <td>Delhi</td>\n",
       "      <td>BLR → DEL</td>\n",
       "      <td>08:20</td>\n",
       "      <td>11:20</td>\n",
       "      <td>3h</td>\n",
       "      <td>No info</td>\n",
       "      <td>7229</td>\n",
       "      <td>0.0</td>\n",
       "      <td>180</td>\n",
       "    </tr>\n",
       "    <tr>\n",
       "      <th>10681</th>\n",
       "      <td>Vistara</td>\n",
       "      <td>01/03/2019</td>\n",
       "      <td>Banglore</td>\n",
       "      <td>New Delhi</td>\n",
       "      <td>BLR → DEL</td>\n",
       "      <td>11:30</td>\n",
       "      <td>14:10</td>\n",
       "      <td>2h 40m</td>\n",
       "      <td>No info</td>\n",
       "      <td>12648</td>\n",
       "      <td>0.0</td>\n",
       "      <td>160</td>\n",
       "    </tr>\n",
       "    <tr>\n",
       "      <th>10682</th>\n",
       "      <td>Air India</td>\n",
       "      <td>9/05/2019</td>\n",
       "      <td>Delhi</td>\n",
       "      <td>Cochin</td>\n",
       "      <td>DEL → GOI → BOM → COK</td>\n",
       "      <td>10:55</td>\n",
       "      <td>19:15</td>\n",
       "      <td>8h 20m</td>\n",
       "      <td>No info</td>\n",
       "      <td>11753</td>\n",
       "      <td>2.0</td>\n",
       "      <td>500</td>\n",
       "    </tr>\n",
       "  </tbody>\n",
       "</table>\n",
       "<p>10683 rows × 12 columns</p>\n",
       "</div>"
      ],
      "text/plain": [
       "           Airline Date_of_Journey    Source Destination  \\\n",
       "0           IndiGo      24/03/2019  Banglore   New Delhi   \n",
       "1        Air India       1/05/2019   Kolkata    Banglore   \n",
       "2      Jet Airways       9/06/2019     Delhi      Cochin   \n",
       "3           IndiGo      12/05/2019   Kolkata    Banglore   \n",
       "4           IndiGo      01/03/2019  Banglore   New Delhi   \n",
       "...            ...             ...       ...         ...   \n",
       "10678     Air Asia       9/04/2019   Kolkata    Banglore   \n",
       "10679    Air India      27/04/2019   Kolkata    Banglore   \n",
       "10680  Jet Airways      27/04/2019  Banglore       Delhi   \n",
       "10681      Vistara      01/03/2019  Banglore   New Delhi   \n",
       "10682    Air India       9/05/2019     Delhi      Cochin   \n",
       "\n",
       "                       Route Dep_Time  Arrival_Time Duration Additional_Info  \\\n",
       "0                  BLR → DEL    22:20  01:10 22 Mar   2h 50m         No info   \n",
       "1      CCU → IXR → BBI → BLR    05:50         13:15   7h 25m         No info   \n",
       "2      DEL → LKO → BOM → COK    09:25  04:25 10 Jun      19h         No info   \n",
       "3            CCU → NAG → BLR    18:05         23:30   5h 25m         No info   \n",
       "4            BLR → NAG → DEL    16:50         21:35   4h 45m         No info   \n",
       "...                      ...      ...           ...      ...             ...   \n",
       "10678              CCU → BLR    19:55         22:25   2h 30m         No info   \n",
       "10679              CCU → BLR    20:45         23:20   2h 35m         No info   \n",
       "10680              BLR → DEL    08:20         11:20       3h         No info   \n",
       "10681              BLR → DEL    11:30         14:10   2h 40m         No info   \n",
       "10682  DEL → GOI → BOM → COK    10:55         19:15   8h 20m         No info   \n",
       "\n",
       "       Price  Total_Stops_cleaned  Duration_total_mins  \n",
       "0       3897                  0.0                  170  \n",
       "1       7662                  2.0                  445  \n",
       "2      13882                  2.0                 1140  \n",
       "3       6218                  1.0                  325  \n",
       "4      13302                  1.0                  285  \n",
       "...      ...                  ...                  ...  \n",
       "10678   4107                  0.0                  150  \n",
       "10679   4145                  0.0                  155  \n",
       "10680   7229                  0.0                  180  \n",
       "10681  12648                  0.0                  160  \n",
       "10682  11753                  2.0                  500  \n",
       "\n",
       "[10683 rows x 12 columns]"
      ]
     },
     "execution_count": 20,
     "metadata": {},
     "output_type": "execute_result"
    }
   ],
   "source": [
    "data"
   ]
  },
  {
   "cell_type": "code",
   "execution_count": 21,
   "id": "18273ff2",
   "metadata": {},
   "outputs": [],
   "source": [
    "if 'Duration' in data.columns:\n",
    "    data.drop('Duration', axis=1, inplace=True)\n"
   ]
  },
  {
   "cell_type": "code",
   "execution_count": 22,
   "id": "b145c459",
   "metadata": {},
   "outputs": [
    {
     "data": {
      "text/plain": [
       "Index(['Airline', 'Date_of_Journey', 'Source', 'Destination', 'Route',\n",
       "       'Dep_Time', 'Arrival_Time', 'Additional_Info', 'Price',\n",
       "       'Total_Stops_cleaned', 'Duration_total_mins'],\n",
       "      dtype='object')"
      ]
     },
     "execution_count": 22,
     "metadata": {},
     "output_type": "execute_result"
    }
   ],
   "source": [
    "data.columns"
   ]
  },
  {
   "cell_type": "markdown",
   "id": "13c34aee",
   "metadata": {},
   "source": [
    "Extracting Date, Month and Year from Date of Journey"
   ]
  },
  {
   "cell_type": "code",
   "execution_count": 23,
   "id": "d1fd0ad5",
   "metadata": {},
   "outputs": [],
   "source": [
    "data['Journey_Date'] = data['Date_of_Journey'].str.split('/').str[0].astype(int)\n",
    "data['Journey_Month'] = data['Date_of_Journey'].str.split('/').str[1].astype(int)\n",
    "data['Journey_Year'] = data['Date_of_Journey'].str.split('/').str[2].astype(int)"
   ]
  },
  {
   "cell_type": "code",
   "execution_count": 24,
   "id": "814e7a33",
   "metadata": {},
   "outputs": [],
   "source": [
    "data.drop('Date_of_Journey', axis=1, inplace=True)"
   ]
  },
  {
   "cell_type": "code",
   "execution_count": 25,
   "id": "42a673ea",
   "metadata": {},
   "outputs": [
    {
     "data": {
      "application/vnd.microsoft.datawrangler.viewer.v0+json": {
       "columns": [
        {
         "name": "index",
         "rawType": "int64",
         "type": "integer"
        },
        {
         "name": "Airline",
         "rawType": "object",
         "type": "string"
        },
        {
         "name": "Source",
         "rawType": "object",
         "type": "string"
        },
        {
         "name": "Destination",
         "rawType": "object",
         "type": "string"
        },
        {
         "name": "Route",
         "rawType": "object",
         "type": "string"
        },
        {
         "name": "Dep_Time",
         "rawType": "object",
         "type": "string"
        },
        {
         "name": "Arrival_Time",
         "rawType": "object",
         "type": "string"
        },
        {
         "name": "Additional_Info",
         "rawType": "object",
         "type": "string"
        },
        {
         "name": "Price",
         "rawType": "int64",
         "type": "integer"
        },
        {
         "name": "Total_Stops_cleaned",
         "rawType": "float64",
         "type": "float"
        },
        {
         "name": "Duration_total_mins",
         "rawType": "int64",
         "type": "integer"
        },
        {
         "name": "Journey_Date",
         "rawType": "int64",
         "type": "integer"
        },
        {
         "name": "Journey_Month",
         "rawType": "int64",
         "type": "integer"
        },
        {
         "name": "Journey_Year",
         "rawType": "int64",
         "type": "integer"
        }
       ],
       "ref": "2ee1e414-c9ec-479e-a2ed-cdd3735d77a5",
       "rows": [
        [
         "0",
         "IndiGo",
         "Banglore",
         "New Delhi",
         "BLR → DEL",
         "22:20",
         "01:10 22 Mar",
         "No info",
         "3897",
         "0.0",
         "170",
         "24",
         "3",
         "2019"
        ]
       ],
       "shape": {
        "columns": 13,
        "rows": 1
       }
      },
      "text/html": [
       "<div>\n",
       "<style scoped>\n",
       "    .dataframe tbody tr th:only-of-type {\n",
       "        vertical-align: middle;\n",
       "    }\n",
       "\n",
       "    .dataframe tbody tr th {\n",
       "        vertical-align: top;\n",
       "    }\n",
       "\n",
       "    .dataframe thead th {\n",
       "        text-align: right;\n",
       "    }\n",
       "</style>\n",
       "<table border=\"1\" class=\"dataframe\">\n",
       "  <thead>\n",
       "    <tr style=\"text-align: right;\">\n",
       "      <th></th>\n",
       "      <th>Airline</th>\n",
       "      <th>Source</th>\n",
       "      <th>Destination</th>\n",
       "      <th>Route</th>\n",
       "      <th>Dep_Time</th>\n",
       "      <th>Arrival_Time</th>\n",
       "      <th>Additional_Info</th>\n",
       "      <th>Price</th>\n",
       "      <th>Total_Stops_cleaned</th>\n",
       "      <th>Duration_total_mins</th>\n",
       "      <th>Journey_Date</th>\n",
       "      <th>Journey_Month</th>\n",
       "      <th>Journey_Year</th>\n",
       "    </tr>\n",
       "  </thead>\n",
       "  <tbody>\n",
       "    <tr>\n",
       "      <th>0</th>\n",
       "      <td>IndiGo</td>\n",
       "      <td>Banglore</td>\n",
       "      <td>New Delhi</td>\n",
       "      <td>BLR → DEL</td>\n",
       "      <td>22:20</td>\n",
       "      <td>01:10 22 Mar</td>\n",
       "      <td>No info</td>\n",
       "      <td>3897</td>\n",
       "      <td>0.0</td>\n",
       "      <td>170</td>\n",
       "      <td>24</td>\n",
       "      <td>3</td>\n",
       "      <td>2019</td>\n",
       "    </tr>\n",
       "  </tbody>\n",
       "</table>\n",
       "</div>"
      ],
      "text/plain": [
       "  Airline    Source Destination      Route Dep_Time  Arrival_Time  \\\n",
       "0  IndiGo  Banglore   New Delhi  BLR → DEL    22:20  01:10 22 Mar   \n",
       "\n",
       "  Additional_Info  Price  Total_Stops_cleaned  Duration_total_mins  \\\n",
       "0         No info   3897                  0.0                  170   \n",
       "\n",
       "   Journey_Date  Journey_Month  Journey_Year  \n",
       "0            24              3          2019  "
      ]
     },
     "execution_count": 25,
     "metadata": {},
     "output_type": "execute_result"
    }
   ],
   "source": [
    "data.head(1)"
   ]
  },
  {
   "cell_type": "code",
   "execution_count": 26,
   "id": "7112b321",
   "metadata": {},
   "outputs": [],
   "source": [
    "data['Arrival_Time'] = data['Arrival_Time'].apply(lambda x:x.split(' ')[0])"
   ]
  },
  {
   "cell_type": "code",
   "execution_count": 27,
   "id": "2fc22ef0",
   "metadata": {},
   "outputs": [],
   "source": [
    "data['Dep_hour'] = data['Dep_Time'].str.split(':').str[0].astype(int)\n",
    "data['Dep_min'] = data['Dep_Time'].str.split(':').str[1].astype(int)\n",
    "\n",
    "data['Arrival_hour'] = data['Arrival_Time'].str.split(':').str[0].astype(int)\n",
    "data['Arrival_min'] = data['Arrival_Time'].str.split(':').str[1].astype(int)\n"
   ]
  },
  {
   "cell_type": "code",
   "execution_count": 28,
   "id": "7d571492",
   "metadata": {},
   "outputs": [
    {
     "data": {
      "application/vnd.microsoft.datawrangler.viewer.v0+json": {
       "columns": [
        {
         "name": "index",
         "rawType": "int64",
         "type": "integer"
        },
        {
         "name": "Arrival_Time",
         "rawType": "object",
         "type": "string"
        },
        {
         "name": "Arrival_hour",
         "rawType": "int64",
         "type": "integer"
        },
        {
         "name": "Arrival_min",
         "rawType": "int64",
         "type": "integer"
        }
       ],
       "ref": "46586012-0667-436b-b5ef-7883dd2820c1",
       "rows": [
        [
         "0",
         "01:10",
         "1",
         "10"
        ],
        [
         "1",
         "13:15",
         "13",
         "15"
        ],
        [
         "2",
         "04:25",
         "4",
         "25"
        ],
        [
         "3",
         "23:30",
         "23",
         "30"
        ],
        [
         "4",
         "21:35",
         "21",
         "35"
        ]
       ],
       "shape": {
        "columns": 3,
        "rows": 5
       }
      },
      "text/html": [
       "<div>\n",
       "<style scoped>\n",
       "    .dataframe tbody tr th:only-of-type {\n",
       "        vertical-align: middle;\n",
       "    }\n",
       "\n",
       "    .dataframe tbody tr th {\n",
       "        vertical-align: top;\n",
       "    }\n",
       "\n",
       "    .dataframe thead th {\n",
       "        text-align: right;\n",
       "    }\n",
       "</style>\n",
       "<table border=\"1\" class=\"dataframe\">\n",
       "  <thead>\n",
       "    <tr style=\"text-align: right;\">\n",
       "      <th></th>\n",
       "      <th>Arrival_Time</th>\n",
       "      <th>Arrival_hour</th>\n",
       "      <th>Arrival_min</th>\n",
       "    </tr>\n",
       "  </thead>\n",
       "  <tbody>\n",
       "    <tr>\n",
       "      <th>0</th>\n",
       "      <td>01:10</td>\n",
       "      <td>1</td>\n",
       "      <td>10</td>\n",
       "    </tr>\n",
       "    <tr>\n",
       "      <th>1</th>\n",
       "      <td>13:15</td>\n",
       "      <td>13</td>\n",
       "      <td>15</td>\n",
       "    </tr>\n",
       "    <tr>\n",
       "      <th>2</th>\n",
       "      <td>04:25</td>\n",
       "      <td>4</td>\n",
       "      <td>25</td>\n",
       "    </tr>\n",
       "    <tr>\n",
       "      <th>3</th>\n",
       "      <td>23:30</td>\n",
       "      <td>23</td>\n",
       "      <td>30</td>\n",
       "    </tr>\n",
       "    <tr>\n",
       "      <th>4</th>\n",
       "      <td>21:35</td>\n",
       "      <td>21</td>\n",
       "      <td>35</td>\n",
       "    </tr>\n",
       "  </tbody>\n",
       "</table>\n",
       "</div>"
      ],
      "text/plain": [
       "  Arrival_Time  Arrival_hour  Arrival_min\n",
       "0        01:10             1           10\n",
       "1        13:15            13           15\n",
       "2        04:25             4           25\n",
       "3        23:30            23           30\n",
       "4        21:35            21           35"
      ]
     },
     "execution_count": 28,
     "metadata": {},
     "output_type": "execute_result"
    }
   ],
   "source": [
    "data[['Arrival_Time', 'Arrival_hour', 'Arrival_min']].head()"
   ]
  },
  {
   "cell_type": "code",
   "execution_count": 29,
   "id": "8e803c5d",
   "metadata": {},
   "outputs": [
    {
     "data": {
      "text/plain": [
       "Index(['Airline', 'Source', 'Destination', 'Route', 'Dep_Time', 'Arrival_Time',\n",
       "       'Additional_Info', 'Price', 'Total_Stops_cleaned',\n",
       "       'Duration_total_mins', 'Journey_Date', 'Journey_Month', 'Journey_Year',\n",
       "       'Dep_hour', 'Dep_min', 'Arrival_hour', 'Arrival_min'],\n",
       "      dtype='object')"
      ]
     },
     "execution_count": 29,
     "metadata": {},
     "output_type": "execute_result"
    }
   ],
   "source": [
    "data.columns"
   ]
  },
  {
   "cell_type": "code",
   "execution_count": 30,
   "id": "68e12650",
   "metadata": {},
   "outputs": [],
   "source": [
    "data.drop(['Dep_Time', 'Arrival_Time'], axis=1, inplace=True, errors='ignore')\n"
   ]
  },
  {
   "cell_type": "code",
   "execution_count": 31,
   "id": "0adfd1ad",
   "metadata": {},
   "outputs": [
    {
     "data": {
      "text/plain": [
       "Index(['Airline', 'Source', 'Destination', 'Route', 'Additional_Info', 'Price',\n",
       "       'Total_Stops_cleaned', 'Duration_total_mins', 'Journey_Date',\n",
       "       'Journey_Month', 'Journey_Year', 'Dep_hour', 'Dep_min', 'Arrival_hour',\n",
       "       'Arrival_min'],\n",
       "      dtype='object')"
      ]
     },
     "execution_count": 31,
     "metadata": {},
     "output_type": "execute_result"
    }
   ],
   "source": [
    "data.columns"
   ]
  },
  {
   "cell_type": "code",
   "execution_count": 32,
   "id": "ceb83f15",
   "metadata": {},
   "outputs": [
    {
     "name": "stdout",
     "output_type": "stream",
     "text": [
      "<class 'pandas.core.frame.DataFrame'>\n",
      "RangeIndex: 10683 entries, 0 to 10682\n",
      "Data columns (total 15 columns):\n",
      " #   Column               Non-Null Count  Dtype  \n",
      "---  ------               --------------  -----  \n",
      " 0   Airline              10683 non-null  object \n",
      " 1   Source               10683 non-null  object \n",
      " 2   Destination          10683 non-null  object \n",
      " 3   Route                10682 non-null  object \n",
      " 4   Additional_Info      10683 non-null  object \n",
      " 5   Price                10683 non-null  int64  \n",
      " 6   Total_Stops_cleaned  10683 non-null  float64\n",
      " 7   Duration_total_mins  10683 non-null  int64  \n",
      " 8   Journey_Date         10683 non-null  int64  \n",
      " 9   Journey_Month        10683 non-null  int64  \n",
      " 10  Journey_Year         10683 non-null  int64  \n",
      " 11  Dep_hour             10683 non-null  int64  \n",
      " 12  Dep_min              10683 non-null  int64  \n",
      " 13  Arrival_hour         10683 non-null  int64  \n",
      " 14  Arrival_min          10683 non-null  int64  \n",
      "dtypes: float64(1), int64(9), object(5)\n",
      "memory usage: 1.2+ MB\n"
     ]
    }
   ],
   "source": [
    "data.info()"
   ]
  },
  {
   "cell_type": "code",
   "execution_count": 33,
   "id": "9e4ffd17",
   "metadata": {},
   "outputs": [
    {
     "data": {
      "application/vnd.microsoft.datawrangler.viewer.v0+json": {
       "columns": [
        {
         "name": "Airline",
         "rawType": "object",
         "type": "string"
        },
        {
         "name": "count",
         "rawType": "int64",
         "type": "integer"
        }
       ],
       "ref": "ff510604-9bbc-49d9-b8b7-fd8edd5862a1",
       "rows": [
        [
         "Jet Airways",
         "3849"
        ],
        [
         "IndiGo",
         "2053"
        ],
        [
         "Air India",
         "1752"
        ],
        [
         "Multiple carriers",
         "1196"
        ],
        [
         "SpiceJet",
         "818"
        ],
        [
         "Vistara",
         "479"
        ],
        [
         "Air Asia",
         "319"
        ],
        [
         "GoAir",
         "194"
        ],
        [
         "Multiple carriers Premium economy",
         "13"
        ],
        [
         "Jet Airways Business",
         "6"
        ],
        [
         "Vistara Premium economy",
         "3"
        ],
        [
         "Trujet",
         "1"
        ]
       ],
       "shape": {
        "columns": 1,
        "rows": 12
       }
      },
      "text/plain": [
       "Airline\n",
       "Jet Airways                          3849\n",
       "IndiGo                               2053\n",
       "Air India                            1752\n",
       "Multiple carriers                    1196\n",
       "SpiceJet                              818\n",
       "Vistara                               479\n",
       "Air Asia                              319\n",
       "GoAir                                 194\n",
       "Multiple carriers Premium economy      13\n",
       "Jet Airways Business                    6\n",
       "Vistara Premium economy                 3\n",
       "Trujet                                  1\n",
       "Name: count, dtype: int64"
      ]
     },
     "execution_count": 33,
     "metadata": {},
     "output_type": "execute_result"
    }
   ],
   "source": [
    "data['Airline'].value_counts()"
   ]
  },
  {
   "cell_type": "markdown",
   "id": "7b3ffc88",
   "metadata": {},
   "source": [
    "Encoding the Airlines"
   ]
  },
  {
   "cell_type": "code",
   "execution_count": 34,
   "id": "a33f8990",
   "metadata": {},
   "outputs": [],
   "source": [
    "from sklearn.preprocessing import OneHotEncoder"
   ]
  },
  {
   "cell_type": "code",
   "execution_count": 35,
   "id": "a6f47b24",
   "metadata": {},
   "outputs": [
    {
     "data": {
      "text/plain": [
       "array(['IndiGo', 'Air India', 'Jet Airways', 'SpiceJet',\n",
       "       'Multiple carriers', 'Other'], dtype=object)"
      ]
     },
     "execution_count": 35,
     "metadata": {},
     "output_type": "execute_result"
    }
   ],
   "source": [
    "top_airlines = data['Airline'].value_counts().nlargest(5).index\n",
    "data['Airline'] = data['Airline'].apply(lambda x: x if x in top_airlines else 'Other')\n",
    "data['Airline'].unique()"
   ]
  },
  {
   "cell_type": "code",
   "execution_count": 36,
   "id": "41c7b9cb",
   "metadata": {},
   "outputs": [],
   "source": [
    "encoder = OneHotEncoder()\n",
    "encoded_arr = encoder.fit_transform(data[['Airline']]).toarray()"
   ]
  },
  {
   "cell_type": "code",
   "execution_count": 37,
   "id": "06ff2cf7",
   "metadata": {},
   "outputs": [
    {
     "data": {
      "text/plain": [
       "array([[0., 1., 0., 0., 0., 0.],\n",
       "       [1., 0., 0., 0., 0., 0.],\n",
       "       [0., 0., 1., 0., 0., 0.],\n",
       "       ...,\n",
       "       [0., 0., 1., 0., 0., 0.],\n",
       "       [0., 0., 0., 0., 1., 0.],\n",
       "       [1., 0., 0., 0., 0., 0.]], shape=(10683, 6))"
      ]
     },
     "execution_count": 37,
     "metadata": {},
     "output_type": "execute_result"
    }
   ],
   "source": [
    "encoded_arr"
   ]
  },
  {
   "cell_type": "code",
   "execution_count": 38,
   "id": "d92a658f",
   "metadata": {},
   "outputs": [],
   "source": [
    "encoded_df = pd.DataFrame(encoded_arr, columns=encoder.get_feature_names_out(['Airline']), index=data.index)"
   ]
  },
  {
   "cell_type": "code",
   "execution_count": 39,
   "id": "fdcbd59e",
   "metadata": {},
   "outputs": [
    {
     "data": {
      "application/vnd.microsoft.datawrangler.viewer.v0+json": {
       "columns": [
        {
         "name": "index",
         "rawType": "int64",
         "type": "integer"
        },
        {
         "name": "Airline_Air India",
         "rawType": "float64",
         "type": "float"
        },
        {
         "name": "Airline_IndiGo",
         "rawType": "float64",
         "type": "float"
        },
        {
         "name": "Airline_Jet Airways",
         "rawType": "float64",
         "type": "float"
        },
        {
         "name": "Airline_Multiple carriers",
         "rawType": "float64",
         "type": "float"
        },
        {
         "name": "Airline_Other",
         "rawType": "float64",
         "type": "float"
        },
        {
         "name": "Airline_SpiceJet",
         "rawType": "float64",
         "type": "float"
        }
       ],
       "ref": "1aeeabb9-e133-452a-91cd-3a30d0c101e5",
       "rows": [
        [
         "0",
         "0.0",
         "1.0",
         "0.0",
         "0.0",
         "0.0",
         "0.0"
        ],
        [
         "1",
         "1.0",
         "0.0",
         "0.0",
         "0.0",
         "0.0",
         "0.0"
        ],
        [
         "2",
         "0.0",
         "0.0",
         "1.0",
         "0.0",
         "0.0",
         "0.0"
        ],
        [
         "3",
         "0.0",
         "1.0",
         "0.0",
         "0.0",
         "0.0",
         "0.0"
        ],
        [
         "4",
         "0.0",
         "1.0",
         "0.0",
         "0.0",
         "0.0",
         "0.0"
        ]
       ],
       "shape": {
        "columns": 6,
        "rows": 5
       }
      },
      "text/html": [
       "<div>\n",
       "<style scoped>\n",
       "    .dataframe tbody tr th:only-of-type {\n",
       "        vertical-align: middle;\n",
       "    }\n",
       "\n",
       "    .dataframe tbody tr th {\n",
       "        vertical-align: top;\n",
       "    }\n",
       "\n",
       "    .dataframe thead th {\n",
       "        text-align: right;\n",
       "    }\n",
       "</style>\n",
       "<table border=\"1\" class=\"dataframe\">\n",
       "  <thead>\n",
       "    <tr style=\"text-align: right;\">\n",
       "      <th></th>\n",
       "      <th>Airline_Air India</th>\n",
       "      <th>Airline_IndiGo</th>\n",
       "      <th>Airline_Jet Airways</th>\n",
       "      <th>Airline_Multiple carriers</th>\n",
       "      <th>Airline_Other</th>\n",
       "      <th>Airline_SpiceJet</th>\n",
       "    </tr>\n",
       "  </thead>\n",
       "  <tbody>\n",
       "    <tr>\n",
       "      <th>0</th>\n",
       "      <td>0.0</td>\n",
       "      <td>1.0</td>\n",
       "      <td>0.0</td>\n",
       "      <td>0.0</td>\n",
       "      <td>0.0</td>\n",
       "      <td>0.0</td>\n",
       "    </tr>\n",
       "    <tr>\n",
       "      <th>1</th>\n",
       "      <td>1.0</td>\n",
       "      <td>0.0</td>\n",
       "      <td>0.0</td>\n",
       "      <td>0.0</td>\n",
       "      <td>0.0</td>\n",
       "      <td>0.0</td>\n",
       "    </tr>\n",
       "    <tr>\n",
       "      <th>2</th>\n",
       "      <td>0.0</td>\n",
       "      <td>0.0</td>\n",
       "      <td>1.0</td>\n",
       "      <td>0.0</td>\n",
       "      <td>0.0</td>\n",
       "      <td>0.0</td>\n",
       "    </tr>\n",
       "    <tr>\n",
       "      <th>3</th>\n",
       "      <td>0.0</td>\n",
       "      <td>1.0</td>\n",
       "      <td>0.0</td>\n",
       "      <td>0.0</td>\n",
       "      <td>0.0</td>\n",
       "      <td>0.0</td>\n",
       "    </tr>\n",
       "    <tr>\n",
       "      <th>4</th>\n",
       "      <td>0.0</td>\n",
       "      <td>1.0</td>\n",
       "      <td>0.0</td>\n",
       "      <td>0.0</td>\n",
       "      <td>0.0</td>\n",
       "      <td>0.0</td>\n",
       "    </tr>\n",
       "  </tbody>\n",
       "</table>\n",
       "</div>"
      ],
      "text/plain": [
       "   Airline_Air India  Airline_IndiGo  Airline_Jet Airways  \\\n",
       "0                0.0             1.0                  0.0   \n",
       "1                1.0             0.0                  0.0   \n",
       "2                0.0             0.0                  1.0   \n",
       "3                0.0             1.0                  0.0   \n",
       "4                0.0             1.0                  0.0   \n",
       "\n",
       "   Airline_Multiple carriers  Airline_Other  Airline_SpiceJet  \n",
       "0                        0.0            0.0               0.0  \n",
       "1                        0.0            0.0               0.0  \n",
       "2                        0.0            0.0               0.0  \n",
       "3                        0.0            0.0               0.0  \n",
       "4                        0.0            0.0               0.0  "
      ]
     },
     "execution_count": 39,
     "metadata": {},
     "output_type": "execute_result"
    }
   ],
   "source": [
    "encoded_df.head()"
   ]
  },
  {
   "cell_type": "code",
   "execution_count": 40,
   "id": "fd6127b1",
   "metadata": {},
   "outputs": [],
   "source": [
    "encoded_data = pd.concat([data.drop('Airline', axis=1), encoded_df], axis=1)"
   ]
  },
  {
   "cell_type": "code",
   "execution_count": 41,
   "id": "6e8c4dfd",
   "metadata": {},
   "outputs": [
    {
     "data": {
      "application/vnd.microsoft.datawrangler.viewer.v0+json": {
       "columns": [
        {
         "name": "index",
         "rawType": "int64",
         "type": "integer"
        },
        {
         "name": "Source",
         "rawType": "object",
         "type": "string"
        },
        {
         "name": "Destination",
         "rawType": "object",
         "type": "string"
        },
        {
         "name": "Route",
         "rawType": "object",
         "type": "string"
        },
        {
         "name": "Additional_Info",
         "rawType": "object",
         "type": "string"
        },
        {
         "name": "Price",
         "rawType": "int64",
         "type": "integer"
        },
        {
         "name": "Total_Stops_cleaned",
         "rawType": "float64",
         "type": "float"
        },
        {
         "name": "Duration_total_mins",
         "rawType": "int64",
         "type": "integer"
        },
        {
         "name": "Journey_Date",
         "rawType": "int64",
         "type": "integer"
        },
        {
         "name": "Journey_Month",
         "rawType": "int64",
         "type": "integer"
        },
        {
         "name": "Journey_Year",
         "rawType": "int64",
         "type": "integer"
        },
        {
         "name": "Dep_hour",
         "rawType": "int64",
         "type": "integer"
        },
        {
         "name": "Dep_min",
         "rawType": "int64",
         "type": "integer"
        },
        {
         "name": "Arrival_hour",
         "rawType": "int64",
         "type": "integer"
        },
        {
         "name": "Arrival_min",
         "rawType": "int64",
         "type": "integer"
        },
        {
         "name": "Airline_Air India",
         "rawType": "float64",
         "type": "float"
        },
        {
         "name": "Airline_IndiGo",
         "rawType": "float64",
         "type": "float"
        },
        {
         "name": "Airline_Jet Airways",
         "rawType": "float64",
         "type": "float"
        },
        {
         "name": "Airline_Multiple carriers",
         "rawType": "float64",
         "type": "float"
        },
        {
         "name": "Airline_Other",
         "rawType": "float64",
         "type": "float"
        },
        {
         "name": "Airline_SpiceJet",
         "rawType": "float64",
         "type": "float"
        }
       ],
       "ref": "63f37e05-a47c-4f14-81d2-fc5f6fb6a664",
       "rows": [
        [
         "0",
         "Banglore",
         "New Delhi",
         "BLR → DEL",
         "No info",
         "3897",
         "0.0",
         "170",
         "24",
         "3",
         "2019",
         "22",
         "20",
         "1",
         "10",
         "0.0",
         "1.0",
         "0.0",
         "0.0",
         "0.0",
         "0.0"
        ],
        [
         "1",
         "Kolkata",
         "Banglore",
         "CCU → IXR → BBI → BLR",
         "No info",
         "7662",
         "2.0",
         "445",
         "1",
         "5",
         "2019",
         "5",
         "50",
         "13",
         "15",
         "1.0",
         "0.0",
         "0.0",
         "0.0",
         "0.0",
         "0.0"
        ],
        [
         "2",
         "Delhi",
         "Cochin",
         "DEL → LKO → BOM → COK",
         "No info",
         "13882",
         "2.0",
         "1140",
         "9",
         "6",
         "2019",
         "9",
         "25",
         "4",
         "25",
         "0.0",
         "0.0",
         "1.0",
         "0.0",
         "0.0",
         "0.0"
        ],
        [
         "3",
         "Kolkata",
         "Banglore",
         "CCU → NAG → BLR",
         "No info",
         "6218",
         "1.0",
         "325",
         "12",
         "5",
         "2019",
         "18",
         "5",
         "23",
         "30",
         "0.0",
         "1.0",
         "0.0",
         "0.0",
         "0.0",
         "0.0"
        ],
        [
         "4",
         "Banglore",
         "New Delhi",
         "BLR → NAG → DEL",
         "No info",
         "13302",
         "1.0",
         "285",
         "1",
         "3",
         "2019",
         "16",
         "50",
         "21",
         "35",
         "0.0",
         "1.0",
         "0.0",
         "0.0",
         "0.0",
         "0.0"
        ]
       ],
       "shape": {
        "columns": 20,
        "rows": 5
       }
      },
      "text/html": [
       "<div>\n",
       "<style scoped>\n",
       "    .dataframe tbody tr th:only-of-type {\n",
       "        vertical-align: middle;\n",
       "    }\n",
       "\n",
       "    .dataframe tbody tr th {\n",
       "        vertical-align: top;\n",
       "    }\n",
       "\n",
       "    .dataframe thead th {\n",
       "        text-align: right;\n",
       "    }\n",
       "</style>\n",
       "<table border=\"1\" class=\"dataframe\">\n",
       "  <thead>\n",
       "    <tr style=\"text-align: right;\">\n",
       "      <th></th>\n",
       "      <th>Source</th>\n",
       "      <th>Destination</th>\n",
       "      <th>Route</th>\n",
       "      <th>Additional_Info</th>\n",
       "      <th>Price</th>\n",
       "      <th>Total_Stops_cleaned</th>\n",
       "      <th>Duration_total_mins</th>\n",
       "      <th>Journey_Date</th>\n",
       "      <th>Journey_Month</th>\n",
       "      <th>Journey_Year</th>\n",
       "      <th>Dep_hour</th>\n",
       "      <th>Dep_min</th>\n",
       "      <th>Arrival_hour</th>\n",
       "      <th>Arrival_min</th>\n",
       "      <th>Airline_Air India</th>\n",
       "      <th>Airline_IndiGo</th>\n",
       "      <th>Airline_Jet Airways</th>\n",
       "      <th>Airline_Multiple carriers</th>\n",
       "      <th>Airline_Other</th>\n",
       "      <th>Airline_SpiceJet</th>\n",
       "    </tr>\n",
       "  </thead>\n",
       "  <tbody>\n",
       "    <tr>\n",
       "      <th>0</th>\n",
       "      <td>Banglore</td>\n",
       "      <td>New Delhi</td>\n",
       "      <td>BLR → DEL</td>\n",
       "      <td>No info</td>\n",
       "      <td>3897</td>\n",
       "      <td>0.0</td>\n",
       "      <td>170</td>\n",
       "      <td>24</td>\n",
       "      <td>3</td>\n",
       "      <td>2019</td>\n",
       "      <td>22</td>\n",
       "      <td>20</td>\n",
       "      <td>1</td>\n",
       "      <td>10</td>\n",
       "      <td>0.0</td>\n",
       "      <td>1.0</td>\n",
       "      <td>0.0</td>\n",
       "      <td>0.0</td>\n",
       "      <td>0.0</td>\n",
       "      <td>0.0</td>\n",
       "    </tr>\n",
       "    <tr>\n",
       "      <th>1</th>\n",
       "      <td>Kolkata</td>\n",
       "      <td>Banglore</td>\n",
       "      <td>CCU → IXR → BBI → BLR</td>\n",
       "      <td>No info</td>\n",
       "      <td>7662</td>\n",
       "      <td>2.0</td>\n",
       "      <td>445</td>\n",
       "      <td>1</td>\n",
       "      <td>5</td>\n",
       "      <td>2019</td>\n",
       "      <td>5</td>\n",
       "      <td>50</td>\n",
       "      <td>13</td>\n",
       "      <td>15</td>\n",
       "      <td>1.0</td>\n",
       "      <td>0.0</td>\n",
       "      <td>0.0</td>\n",
       "      <td>0.0</td>\n",
       "      <td>0.0</td>\n",
       "      <td>0.0</td>\n",
       "    </tr>\n",
       "    <tr>\n",
       "      <th>2</th>\n",
       "      <td>Delhi</td>\n",
       "      <td>Cochin</td>\n",
       "      <td>DEL → LKO → BOM → COK</td>\n",
       "      <td>No info</td>\n",
       "      <td>13882</td>\n",
       "      <td>2.0</td>\n",
       "      <td>1140</td>\n",
       "      <td>9</td>\n",
       "      <td>6</td>\n",
       "      <td>2019</td>\n",
       "      <td>9</td>\n",
       "      <td>25</td>\n",
       "      <td>4</td>\n",
       "      <td>25</td>\n",
       "      <td>0.0</td>\n",
       "      <td>0.0</td>\n",
       "      <td>1.0</td>\n",
       "      <td>0.0</td>\n",
       "      <td>0.0</td>\n",
       "      <td>0.0</td>\n",
       "    </tr>\n",
       "    <tr>\n",
       "      <th>3</th>\n",
       "      <td>Kolkata</td>\n",
       "      <td>Banglore</td>\n",
       "      <td>CCU → NAG → BLR</td>\n",
       "      <td>No info</td>\n",
       "      <td>6218</td>\n",
       "      <td>1.0</td>\n",
       "      <td>325</td>\n",
       "      <td>12</td>\n",
       "      <td>5</td>\n",
       "      <td>2019</td>\n",
       "      <td>18</td>\n",
       "      <td>5</td>\n",
       "      <td>23</td>\n",
       "      <td>30</td>\n",
       "      <td>0.0</td>\n",
       "      <td>1.0</td>\n",
       "      <td>0.0</td>\n",
       "      <td>0.0</td>\n",
       "      <td>0.0</td>\n",
       "      <td>0.0</td>\n",
       "    </tr>\n",
       "    <tr>\n",
       "      <th>4</th>\n",
       "      <td>Banglore</td>\n",
       "      <td>New Delhi</td>\n",
       "      <td>BLR → NAG → DEL</td>\n",
       "      <td>No info</td>\n",
       "      <td>13302</td>\n",
       "      <td>1.0</td>\n",
       "      <td>285</td>\n",
       "      <td>1</td>\n",
       "      <td>3</td>\n",
       "      <td>2019</td>\n",
       "      <td>16</td>\n",
       "      <td>50</td>\n",
       "      <td>21</td>\n",
       "      <td>35</td>\n",
       "      <td>0.0</td>\n",
       "      <td>1.0</td>\n",
       "      <td>0.0</td>\n",
       "      <td>0.0</td>\n",
       "      <td>0.0</td>\n",
       "      <td>0.0</td>\n",
       "    </tr>\n",
       "  </tbody>\n",
       "</table>\n",
       "</div>"
      ],
      "text/plain": [
       "     Source Destination                  Route Additional_Info  Price  \\\n",
       "0  Banglore   New Delhi              BLR → DEL         No info   3897   \n",
       "1   Kolkata    Banglore  CCU → IXR → BBI → BLR         No info   7662   \n",
       "2     Delhi      Cochin  DEL → LKO → BOM → COK         No info  13882   \n",
       "3   Kolkata    Banglore        CCU → NAG → BLR         No info   6218   \n",
       "4  Banglore   New Delhi        BLR → NAG → DEL         No info  13302   \n",
       "\n",
       "   Total_Stops_cleaned  Duration_total_mins  Journey_Date  Journey_Month  \\\n",
       "0                  0.0                  170            24              3   \n",
       "1                  2.0                  445             1              5   \n",
       "2                  2.0                 1140             9              6   \n",
       "3                  1.0                  325            12              5   \n",
       "4                  1.0                  285             1              3   \n",
       "\n",
       "   Journey_Year  Dep_hour  Dep_min  Arrival_hour  Arrival_min  \\\n",
       "0          2019        22       20             1           10   \n",
       "1          2019         5       50            13           15   \n",
       "2          2019         9       25             4           25   \n",
       "3          2019        18        5            23           30   \n",
       "4          2019        16       50            21           35   \n",
       "\n",
       "   Airline_Air India  Airline_IndiGo  Airline_Jet Airways  \\\n",
       "0                0.0             1.0                  0.0   \n",
       "1                1.0             0.0                  0.0   \n",
       "2                0.0             0.0                  1.0   \n",
       "3                0.0             1.0                  0.0   \n",
       "4                0.0             1.0                  0.0   \n",
       "\n",
       "   Airline_Multiple carriers  Airline_Other  Airline_SpiceJet  \n",
       "0                        0.0            0.0               0.0  \n",
       "1                        0.0            0.0               0.0  \n",
       "2                        0.0            0.0               0.0  \n",
       "3                        0.0            0.0               0.0  \n",
       "4                        0.0            0.0               0.0  "
      ]
     },
     "execution_count": 41,
     "metadata": {},
     "output_type": "execute_result"
    }
   ],
   "source": [
    "encoded_data.head()"
   ]
  },
  {
   "cell_type": "code",
   "execution_count": 42,
   "id": "46e96a5f",
   "metadata": {},
   "outputs": [
    {
     "data": {
      "text/plain": [
       "Index(['Source', 'Destination', 'Route', 'Additional_Info', 'Price',\n",
       "       'Total_Stops_cleaned', 'Duration_total_mins', 'Journey_Date',\n",
       "       'Journey_Month', 'Journey_Year', 'Dep_hour', 'Dep_min', 'Arrival_hour',\n",
       "       'Arrival_min', 'Airline_Air India', 'Airline_IndiGo',\n",
       "       'Airline_Jet Airways', 'Airline_Multiple carriers', 'Airline_Other',\n",
       "       'Airline_SpiceJet'],\n",
       "      dtype='object')"
      ]
     },
     "execution_count": 42,
     "metadata": {},
     "output_type": "execute_result"
    }
   ],
   "source": [
    "encoded_data.columns"
   ]
  },
  {
   "cell_type": "code",
   "execution_count": 43,
   "id": "72c3027f",
   "metadata": {},
   "outputs": [],
   "source": [
    "encoded_data.drop(['Route', 'Additional_Info'], axis=1, inplace=True)"
   ]
  },
  {
   "cell_type": "code",
   "execution_count": 44,
   "id": "73c7aa36",
   "metadata": {},
   "outputs": [
    {
     "data": {
      "application/vnd.microsoft.datawrangler.viewer.v0+json": {
       "columns": [
        {
         "name": "Source",
         "rawType": "object",
         "type": "string"
        },
        {
         "name": "count",
         "rawType": "int64",
         "type": "integer"
        }
       ],
       "ref": "1bec1923-ef35-4093-ab77-7e2085c4680f",
       "rows": [
        [
         "Delhi",
         "4537"
        ],
        [
         "Kolkata",
         "2871"
        ],
        [
         "Banglore",
         "2197"
        ],
        [
         "Mumbai",
         "697"
        ],
        [
         "Chennai",
         "381"
        ]
       ],
       "shape": {
        "columns": 1,
        "rows": 5
       }
      },
      "text/plain": [
       "Source\n",
       "Delhi       4537\n",
       "Kolkata     2871\n",
       "Banglore    2197\n",
       "Mumbai       697\n",
       "Chennai      381\n",
       "Name: count, dtype: int64"
      ]
     },
     "execution_count": 44,
     "metadata": {},
     "output_type": "execute_result"
    }
   ],
   "source": [
    "encoded_data['Source'].value_counts()"
   ]
  },
  {
   "cell_type": "markdown",
   "id": "5559e504",
   "metadata": {},
   "source": [
    "Encoding both source and Destination"
   ]
  },
  {
   "cell_type": "code",
   "execution_count": 45,
   "id": "07ea7f91",
   "metadata": {},
   "outputs": [
    {
     "data": {
      "application/vnd.microsoft.datawrangler.viewer.v0+json": {
       "columns": [
        {
         "name": "index",
         "rawType": "int64",
         "type": "integer"
        },
        {
         "name": "Source",
         "rawType": "object",
         "type": "string"
        },
        {
         "name": "Destination",
         "rawType": "object",
         "type": "string"
        },
        {
         "name": "Price",
         "rawType": "int64",
         "type": "integer"
        },
        {
         "name": "Total_Stops_cleaned",
         "rawType": "float64",
         "type": "float"
        },
        {
         "name": "Duration_total_mins",
         "rawType": "int64",
         "type": "integer"
        },
        {
         "name": "Journey_Date",
         "rawType": "int64",
         "type": "integer"
        },
        {
         "name": "Journey_Month",
         "rawType": "int64",
         "type": "integer"
        },
        {
         "name": "Journey_Year",
         "rawType": "int64",
         "type": "integer"
        },
        {
         "name": "Dep_hour",
         "rawType": "int64",
         "type": "integer"
        },
        {
         "name": "Dep_min",
         "rawType": "int64",
         "type": "integer"
        },
        {
         "name": "Arrival_hour",
         "rawType": "int64",
         "type": "integer"
        },
        {
         "name": "Arrival_min",
         "rawType": "int64",
         "type": "integer"
        },
        {
         "name": "Airline_Air India",
         "rawType": "float64",
         "type": "float"
        },
        {
         "name": "Airline_IndiGo",
         "rawType": "float64",
         "type": "float"
        },
        {
         "name": "Airline_Jet Airways",
         "rawType": "float64",
         "type": "float"
        },
        {
         "name": "Airline_Multiple carriers",
         "rawType": "float64",
         "type": "float"
        },
        {
         "name": "Airline_Other",
         "rawType": "float64",
         "type": "float"
        },
        {
         "name": "Airline_SpiceJet",
         "rawType": "float64",
         "type": "float"
        }
       ],
       "ref": "46a02118-88ad-4a9b-97ee-f4333ea074eb",
       "rows": [
        [
         "0",
         "Banglore",
         "New Delhi",
         "3897",
         "0.0",
         "170",
         "24",
         "3",
         "2019",
         "22",
         "20",
         "1",
         "10",
         "0.0",
         "1.0",
         "0.0",
         "0.0",
         "0.0",
         "0.0"
        ]
       ],
       "shape": {
        "columns": 18,
        "rows": 1
       }
      },
      "text/html": [
       "<div>\n",
       "<style scoped>\n",
       "    .dataframe tbody tr th:only-of-type {\n",
       "        vertical-align: middle;\n",
       "    }\n",
       "\n",
       "    .dataframe tbody tr th {\n",
       "        vertical-align: top;\n",
       "    }\n",
       "\n",
       "    .dataframe thead th {\n",
       "        text-align: right;\n",
       "    }\n",
       "</style>\n",
       "<table border=\"1\" class=\"dataframe\">\n",
       "  <thead>\n",
       "    <tr style=\"text-align: right;\">\n",
       "      <th></th>\n",
       "      <th>Source</th>\n",
       "      <th>Destination</th>\n",
       "      <th>Price</th>\n",
       "      <th>Total_Stops_cleaned</th>\n",
       "      <th>Duration_total_mins</th>\n",
       "      <th>Journey_Date</th>\n",
       "      <th>Journey_Month</th>\n",
       "      <th>Journey_Year</th>\n",
       "      <th>Dep_hour</th>\n",
       "      <th>Dep_min</th>\n",
       "      <th>Arrival_hour</th>\n",
       "      <th>Arrival_min</th>\n",
       "      <th>Airline_Air India</th>\n",
       "      <th>Airline_IndiGo</th>\n",
       "      <th>Airline_Jet Airways</th>\n",
       "      <th>Airline_Multiple carriers</th>\n",
       "      <th>Airline_Other</th>\n",
       "      <th>Airline_SpiceJet</th>\n",
       "    </tr>\n",
       "  </thead>\n",
       "  <tbody>\n",
       "    <tr>\n",
       "      <th>0</th>\n",
       "      <td>Banglore</td>\n",
       "      <td>New Delhi</td>\n",
       "      <td>3897</td>\n",
       "      <td>0.0</td>\n",
       "      <td>170</td>\n",
       "      <td>24</td>\n",
       "      <td>3</td>\n",
       "      <td>2019</td>\n",
       "      <td>22</td>\n",
       "      <td>20</td>\n",
       "      <td>1</td>\n",
       "      <td>10</td>\n",
       "      <td>0.0</td>\n",
       "      <td>1.0</td>\n",
       "      <td>0.0</td>\n",
       "      <td>0.0</td>\n",
       "      <td>0.0</td>\n",
       "      <td>0.0</td>\n",
       "    </tr>\n",
       "  </tbody>\n",
       "</table>\n",
       "</div>"
      ],
      "text/plain": [
       "     Source Destination  Price  Total_Stops_cleaned  Duration_total_mins  \\\n",
       "0  Banglore   New Delhi   3897                  0.0                  170   \n",
       "\n",
       "   Journey_Date  Journey_Month  Journey_Year  Dep_hour  Dep_min  Arrival_hour  \\\n",
       "0            24              3          2019        22       20             1   \n",
       "\n",
       "   Arrival_min  Airline_Air India  Airline_IndiGo  Airline_Jet Airways  \\\n",
       "0           10                0.0             1.0                  0.0   \n",
       "\n",
       "   Airline_Multiple carriers  Airline_Other  Airline_SpiceJet  \n",
       "0                        0.0            0.0               0.0  "
      ]
     },
     "execution_count": 45,
     "metadata": {},
     "output_type": "execute_result"
    }
   ],
   "source": [
    "encoded_data.head(1)"
   ]
  },
  {
   "cell_type": "code",
   "execution_count": 46,
   "id": "8bf6eed5",
   "metadata": {},
   "outputs": [],
   "source": [
    "encoded_data_arr = encoder.fit_transform(data[['Source', 'Destination']]).toarray()"
   ]
  },
  {
   "cell_type": "code",
   "execution_count": 47,
   "id": "b7510ea4",
   "metadata": {},
   "outputs": [],
   "source": [
    "encoded_data_df = pd.DataFrame(encoded_data_arr, columns=encoder.get_feature_names_out(['Source', 'Destination']), index=encoded_data.index)"
   ]
  },
  {
   "cell_type": "code",
   "execution_count": 48,
   "id": "ab4516c2",
   "metadata": {},
   "outputs": [
    {
     "data": {
      "application/vnd.microsoft.datawrangler.viewer.v0+json": {
       "columns": [
        {
         "name": "index",
         "rawType": "int64",
         "type": "integer"
        },
        {
         "name": "Source_Banglore",
         "rawType": "float64",
         "type": "float"
        },
        {
         "name": "Source_Chennai",
         "rawType": "float64",
         "type": "float"
        },
        {
         "name": "Source_Delhi",
         "rawType": "float64",
         "type": "float"
        },
        {
         "name": "Source_Kolkata",
         "rawType": "float64",
         "type": "float"
        },
        {
         "name": "Source_Mumbai",
         "rawType": "float64",
         "type": "float"
        },
        {
         "name": "Destination_Banglore",
         "rawType": "float64",
         "type": "float"
        },
        {
         "name": "Destination_Cochin",
         "rawType": "float64",
         "type": "float"
        },
        {
         "name": "Destination_Delhi",
         "rawType": "float64",
         "type": "float"
        },
        {
         "name": "Destination_Hyderabad",
         "rawType": "float64",
         "type": "float"
        },
        {
         "name": "Destination_Kolkata",
         "rawType": "float64",
         "type": "float"
        },
        {
         "name": "Destination_New Delhi",
         "rawType": "float64",
         "type": "float"
        }
       ],
       "ref": "8965be11-7e22-4d7d-8206-0f7aa900a099",
       "rows": [
        [
         "0",
         "1.0",
         "0.0",
         "0.0",
         "0.0",
         "0.0",
         "0.0",
         "0.0",
         "0.0",
         "0.0",
         "0.0",
         "1.0"
        ],
        [
         "1",
         "0.0",
         "0.0",
         "0.0",
         "1.0",
         "0.0",
         "1.0",
         "0.0",
         "0.0",
         "0.0",
         "0.0",
         "0.0"
        ],
        [
         "2",
         "0.0",
         "0.0",
         "1.0",
         "0.0",
         "0.0",
         "0.0",
         "1.0",
         "0.0",
         "0.0",
         "0.0",
         "0.0"
        ],
        [
         "3",
         "0.0",
         "0.0",
         "0.0",
         "1.0",
         "0.0",
         "1.0",
         "0.0",
         "0.0",
         "0.0",
         "0.0",
         "0.0"
        ],
        [
         "4",
         "1.0",
         "0.0",
         "0.0",
         "0.0",
         "0.0",
         "0.0",
         "0.0",
         "0.0",
         "0.0",
         "0.0",
         "1.0"
        ]
       ],
       "shape": {
        "columns": 11,
        "rows": 5
       }
      },
      "text/html": [
       "<div>\n",
       "<style scoped>\n",
       "    .dataframe tbody tr th:only-of-type {\n",
       "        vertical-align: middle;\n",
       "    }\n",
       "\n",
       "    .dataframe tbody tr th {\n",
       "        vertical-align: top;\n",
       "    }\n",
       "\n",
       "    .dataframe thead th {\n",
       "        text-align: right;\n",
       "    }\n",
       "</style>\n",
       "<table border=\"1\" class=\"dataframe\">\n",
       "  <thead>\n",
       "    <tr style=\"text-align: right;\">\n",
       "      <th></th>\n",
       "      <th>Source_Banglore</th>\n",
       "      <th>Source_Chennai</th>\n",
       "      <th>Source_Delhi</th>\n",
       "      <th>Source_Kolkata</th>\n",
       "      <th>Source_Mumbai</th>\n",
       "      <th>Destination_Banglore</th>\n",
       "      <th>Destination_Cochin</th>\n",
       "      <th>Destination_Delhi</th>\n",
       "      <th>Destination_Hyderabad</th>\n",
       "      <th>Destination_Kolkata</th>\n",
       "      <th>Destination_New Delhi</th>\n",
       "    </tr>\n",
       "  </thead>\n",
       "  <tbody>\n",
       "    <tr>\n",
       "      <th>0</th>\n",
       "      <td>1.0</td>\n",
       "      <td>0.0</td>\n",
       "      <td>0.0</td>\n",
       "      <td>0.0</td>\n",
       "      <td>0.0</td>\n",
       "      <td>0.0</td>\n",
       "      <td>0.0</td>\n",
       "      <td>0.0</td>\n",
       "      <td>0.0</td>\n",
       "      <td>0.0</td>\n",
       "      <td>1.0</td>\n",
       "    </tr>\n",
       "    <tr>\n",
       "      <th>1</th>\n",
       "      <td>0.0</td>\n",
       "      <td>0.0</td>\n",
       "      <td>0.0</td>\n",
       "      <td>1.0</td>\n",
       "      <td>0.0</td>\n",
       "      <td>1.0</td>\n",
       "      <td>0.0</td>\n",
       "      <td>0.0</td>\n",
       "      <td>0.0</td>\n",
       "      <td>0.0</td>\n",
       "      <td>0.0</td>\n",
       "    </tr>\n",
       "    <tr>\n",
       "      <th>2</th>\n",
       "      <td>0.0</td>\n",
       "      <td>0.0</td>\n",
       "      <td>1.0</td>\n",
       "      <td>0.0</td>\n",
       "      <td>0.0</td>\n",
       "      <td>0.0</td>\n",
       "      <td>1.0</td>\n",
       "      <td>0.0</td>\n",
       "      <td>0.0</td>\n",
       "      <td>0.0</td>\n",
       "      <td>0.0</td>\n",
       "    </tr>\n",
       "    <tr>\n",
       "      <th>3</th>\n",
       "      <td>0.0</td>\n",
       "      <td>0.0</td>\n",
       "      <td>0.0</td>\n",
       "      <td>1.0</td>\n",
       "      <td>0.0</td>\n",
       "      <td>1.0</td>\n",
       "      <td>0.0</td>\n",
       "      <td>0.0</td>\n",
       "      <td>0.0</td>\n",
       "      <td>0.0</td>\n",
       "      <td>0.0</td>\n",
       "    </tr>\n",
       "    <tr>\n",
       "      <th>4</th>\n",
       "      <td>1.0</td>\n",
       "      <td>0.0</td>\n",
       "      <td>0.0</td>\n",
       "      <td>0.0</td>\n",
       "      <td>0.0</td>\n",
       "      <td>0.0</td>\n",
       "      <td>0.0</td>\n",
       "      <td>0.0</td>\n",
       "      <td>0.0</td>\n",
       "      <td>0.0</td>\n",
       "      <td>1.0</td>\n",
       "    </tr>\n",
       "  </tbody>\n",
       "</table>\n",
       "</div>"
      ],
      "text/plain": [
       "   Source_Banglore  Source_Chennai  Source_Delhi  Source_Kolkata  \\\n",
       "0              1.0             0.0           0.0             0.0   \n",
       "1              0.0             0.0           0.0             1.0   \n",
       "2              0.0             0.0           1.0             0.0   \n",
       "3              0.0             0.0           0.0             1.0   \n",
       "4              1.0             0.0           0.0             0.0   \n",
       "\n",
       "   Source_Mumbai  Destination_Banglore  Destination_Cochin  Destination_Delhi  \\\n",
       "0            0.0                   0.0                 0.0                0.0   \n",
       "1            0.0                   1.0                 0.0                0.0   \n",
       "2            0.0                   0.0                 1.0                0.0   \n",
       "3            0.0                   1.0                 0.0                0.0   \n",
       "4            0.0                   0.0                 0.0                0.0   \n",
       "\n",
       "   Destination_Hyderabad  Destination_Kolkata  Destination_New Delhi  \n",
       "0                    0.0                  0.0                    1.0  \n",
       "1                    0.0                  0.0                    0.0  \n",
       "2                    0.0                  0.0                    0.0  \n",
       "3                    0.0                  0.0                    0.0  \n",
       "4                    0.0                  0.0                    1.0  "
      ]
     },
     "execution_count": 48,
     "metadata": {},
     "output_type": "execute_result"
    }
   ],
   "source": [
    "encoded_data_df.head()"
   ]
  },
  {
   "cell_type": "code",
   "execution_count": 49,
   "id": "ee022a72",
   "metadata": {},
   "outputs": [],
   "source": [
    "encoded_data_final = pd.concat([encoded_data, encoded_data_df], axis=1)"
   ]
  },
  {
   "cell_type": "code",
   "execution_count": 50,
   "id": "4a2174ee",
   "metadata": {},
   "outputs": [
    {
     "data": {
      "text/plain": [
       "Index(['Source', 'Destination', 'Price', 'Total_Stops_cleaned',\n",
       "       'Duration_total_mins', 'Journey_Date', 'Journey_Month', 'Journey_Year',\n",
       "       'Dep_hour', 'Dep_min', 'Arrival_hour', 'Arrival_min',\n",
       "       'Airline_Air India', 'Airline_IndiGo', 'Airline_Jet Airways',\n",
       "       'Airline_Multiple carriers', 'Airline_Other', 'Airline_SpiceJet',\n",
       "       'Source_Banglore', 'Source_Chennai', 'Source_Delhi', 'Source_Kolkata',\n",
       "       'Source_Mumbai', 'Destination_Banglore', 'Destination_Cochin',\n",
       "       'Destination_Delhi', 'Destination_Hyderabad', 'Destination_Kolkata',\n",
       "       'Destination_New Delhi'],\n",
       "      dtype='object')"
      ]
     },
     "execution_count": 50,
     "metadata": {},
     "output_type": "execute_result"
    }
   ],
   "source": [
    "encoded_data_final.columns"
   ]
  },
  {
   "cell_type": "code",
   "execution_count": 51,
   "id": "2712d3d9",
   "metadata": {},
   "outputs": [],
   "source": [
    "encoded_data_final.drop(['Source', 'Destination', 'Dep_Time', 'Arrival_Time'], axis=1, inplace=True, errors='ignore')"
   ]
  },
  {
   "cell_type": "code",
   "execution_count": 52,
   "id": "02fa4568",
   "metadata": {},
   "outputs": [
    {
     "data": {
      "application/vnd.microsoft.datawrangler.viewer.v0+json": {
       "columns": [
        {
         "name": "index",
         "rawType": "int64",
         "type": "integer"
        },
        {
         "name": "Price",
         "rawType": "int64",
         "type": "integer"
        },
        {
         "name": "Total_Stops_cleaned",
         "rawType": "float64",
         "type": "float"
        },
        {
         "name": "Duration_total_mins",
         "rawType": "int64",
         "type": "integer"
        },
        {
         "name": "Journey_Date",
         "rawType": "int64",
         "type": "integer"
        },
        {
         "name": "Journey_Month",
         "rawType": "int64",
         "type": "integer"
        },
        {
         "name": "Journey_Year",
         "rawType": "int64",
         "type": "integer"
        },
        {
         "name": "Dep_hour",
         "rawType": "int64",
         "type": "integer"
        },
        {
         "name": "Dep_min",
         "rawType": "int64",
         "type": "integer"
        },
        {
         "name": "Arrival_hour",
         "rawType": "int64",
         "type": "integer"
        },
        {
         "name": "Arrival_min",
         "rawType": "int64",
         "type": "integer"
        },
        {
         "name": "Airline_Air India",
         "rawType": "float64",
         "type": "float"
        },
        {
         "name": "Airline_IndiGo",
         "rawType": "float64",
         "type": "float"
        },
        {
         "name": "Airline_Jet Airways",
         "rawType": "float64",
         "type": "float"
        },
        {
         "name": "Airline_Multiple carriers",
         "rawType": "float64",
         "type": "float"
        },
        {
         "name": "Airline_Other",
         "rawType": "float64",
         "type": "float"
        },
        {
         "name": "Airline_SpiceJet",
         "rawType": "float64",
         "type": "float"
        },
        {
         "name": "Source_Banglore",
         "rawType": "float64",
         "type": "float"
        },
        {
         "name": "Source_Chennai",
         "rawType": "float64",
         "type": "float"
        },
        {
         "name": "Source_Delhi",
         "rawType": "float64",
         "type": "float"
        },
        {
         "name": "Source_Kolkata",
         "rawType": "float64",
         "type": "float"
        },
        {
         "name": "Source_Mumbai",
         "rawType": "float64",
         "type": "float"
        },
        {
         "name": "Destination_Banglore",
         "rawType": "float64",
         "type": "float"
        },
        {
         "name": "Destination_Cochin",
         "rawType": "float64",
         "type": "float"
        },
        {
         "name": "Destination_Delhi",
         "rawType": "float64",
         "type": "float"
        },
        {
         "name": "Destination_Hyderabad",
         "rawType": "float64",
         "type": "float"
        },
        {
         "name": "Destination_Kolkata",
         "rawType": "float64",
         "type": "float"
        },
        {
         "name": "Destination_New Delhi",
         "rawType": "float64",
         "type": "float"
        }
       ],
       "ref": "7ea8cdf0-135c-47a8-88df-97bbc77962ff",
       "rows": [
        [
         "0",
         "3897",
         "0.0",
         "170",
         "24",
         "3",
         "2019",
         "22",
         "20",
         "1",
         "10",
         "0.0",
         "1.0",
         "0.0",
         "0.0",
         "0.0",
         "0.0",
         "1.0",
         "0.0",
         "0.0",
         "0.0",
         "0.0",
         "0.0",
         "0.0",
         "0.0",
         "0.0",
         "0.0",
         "1.0"
        ],
        [
         "1",
         "7662",
         "2.0",
         "445",
         "1",
         "5",
         "2019",
         "5",
         "50",
         "13",
         "15",
         "1.0",
         "0.0",
         "0.0",
         "0.0",
         "0.0",
         "0.0",
         "0.0",
         "0.0",
         "0.0",
         "1.0",
         "0.0",
         "1.0",
         "0.0",
         "0.0",
         "0.0",
         "0.0",
         "0.0"
        ],
        [
         "2",
         "13882",
         "2.0",
         "1140",
         "9",
         "6",
         "2019",
         "9",
         "25",
         "4",
         "25",
         "0.0",
         "0.0",
         "1.0",
         "0.0",
         "0.0",
         "0.0",
         "0.0",
         "0.0",
         "1.0",
         "0.0",
         "0.0",
         "0.0",
         "1.0",
         "0.0",
         "0.0",
         "0.0",
         "0.0"
        ],
        [
         "3",
         "6218",
         "1.0",
         "325",
         "12",
         "5",
         "2019",
         "18",
         "5",
         "23",
         "30",
         "0.0",
         "1.0",
         "0.0",
         "0.0",
         "0.0",
         "0.0",
         "0.0",
         "0.0",
         "0.0",
         "1.0",
         "0.0",
         "1.0",
         "0.0",
         "0.0",
         "0.0",
         "0.0",
         "0.0"
        ],
        [
         "4",
         "13302",
         "1.0",
         "285",
         "1",
         "3",
         "2019",
         "16",
         "50",
         "21",
         "35",
         "0.0",
         "1.0",
         "0.0",
         "0.0",
         "0.0",
         "0.0",
         "1.0",
         "0.0",
         "0.0",
         "0.0",
         "0.0",
         "0.0",
         "0.0",
         "0.0",
         "0.0",
         "0.0",
         "1.0"
        ]
       ],
       "shape": {
        "columns": 27,
        "rows": 5
       }
      },
      "text/html": [
       "<div>\n",
       "<style scoped>\n",
       "    .dataframe tbody tr th:only-of-type {\n",
       "        vertical-align: middle;\n",
       "    }\n",
       "\n",
       "    .dataframe tbody tr th {\n",
       "        vertical-align: top;\n",
       "    }\n",
       "\n",
       "    .dataframe thead th {\n",
       "        text-align: right;\n",
       "    }\n",
       "</style>\n",
       "<table border=\"1\" class=\"dataframe\">\n",
       "  <thead>\n",
       "    <tr style=\"text-align: right;\">\n",
       "      <th></th>\n",
       "      <th>Price</th>\n",
       "      <th>Total_Stops_cleaned</th>\n",
       "      <th>Duration_total_mins</th>\n",
       "      <th>Journey_Date</th>\n",
       "      <th>Journey_Month</th>\n",
       "      <th>Journey_Year</th>\n",
       "      <th>Dep_hour</th>\n",
       "      <th>Dep_min</th>\n",
       "      <th>Arrival_hour</th>\n",
       "      <th>Arrival_min</th>\n",
       "      <th>...</th>\n",
       "      <th>Source_Chennai</th>\n",
       "      <th>Source_Delhi</th>\n",
       "      <th>Source_Kolkata</th>\n",
       "      <th>Source_Mumbai</th>\n",
       "      <th>Destination_Banglore</th>\n",
       "      <th>Destination_Cochin</th>\n",
       "      <th>Destination_Delhi</th>\n",
       "      <th>Destination_Hyderabad</th>\n",
       "      <th>Destination_Kolkata</th>\n",
       "      <th>Destination_New Delhi</th>\n",
       "    </tr>\n",
       "  </thead>\n",
       "  <tbody>\n",
       "    <tr>\n",
       "      <th>0</th>\n",
       "      <td>3897</td>\n",
       "      <td>0.0</td>\n",
       "      <td>170</td>\n",
       "      <td>24</td>\n",
       "      <td>3</td>\n",
       "      <td>2019</td>\n",
       "      <td>22</td>\n",
       "      <td>20</td>\n",
       "      <td>1</td>\n",
       "      <td>10</td>\n",
       "      <td>...</td>\n",
       "      <td>0.0</td>\n",
       "      <td>0.0</td>\n",
       "      <td>0.0</td>\n",
       "      <td>0.0</td>\n",
       "      <td>0.0</td>\n",
       "      <td>0.0</td>\n",
       "      <td>0.0</td>\n",
       "      <td>0.0</td>\n",
       "      <td>0.0</td>\n",
       "      <td>1.0</td>\n",
       "    </tr>\n",
       "    <tr>\n",
       "      <th>1</th>\n",
       "      <td>7662</td>\n",
       "      <td>2.0</td>\n",
       "      <td>445</td>\n",
       "      <td>1</td>\n",
       "      <td>5</td>\n",
       "      <td>2019</td>\n",
       "      <td>5</td>\n",
       "      <td>50</td>\n",
       "      <td>13</td>\n",
       "      <td>15</td>\n",
       "      <td>...</td>\n",
       "      <td>0.0</td>\n",
       "      <td>0.0</td>\n",
       "      <td>1.0</td>\n",
       "      <td>0.0</td>\n",
       "      <td>1.0</td>\n",
       "      <td>0.0</td>\n",
       "      <td>0.0</td>\n",
       "      <td>0.0</td>\n",
       "      <td>0.0</td>\n",
       "      <td>0.0</td>\n",
       "    </tr>\n",
       "    <tr>\n",
       "      <th>2</th>\n",
       "      <td>13882</td>\n",
       "      <td>2.0</td>\n",
       "      <td>1140</td>\n",
       "      <td>9</td>\n",
       "      <td>6</td>\n",
       "      <td>2019</td>\n",
       "      <td>9</td>\n",
       "      <td>25</td>\n",
       "      <td>4</td>\n",
       "      <td>25</td>\n",
       "      <td>...</td>\n",
       "      <td>0.0</td>\n",
       "      <td>1.0</td>\n",
       "      <td>0.0</td>\n",
       "      <td>0.0</td>\n",
       "      <td>0.0</td>\n",
       "      <td>1.0</td>\n",
       "      <td>0.0</td>\n",
       "      <td>0.0</td>\n",
       "      <td>0.0</td>\n",
       "      <td>0.0</td>\n",
       "    </tr>\n",
       "    <tr>\n",
       "      <th>3</th>\n",
       "      <td>6218</td>\n",
       "      <td>1.0</td>\n",
       "      <td>325</td>\n",
       "      <td>12</td>\n",
       "      <td>5</td>\n",
       "      <td>2019</td>\n",
       "      <td>18</td>\n",
       "      <td>5</td>\n",
       "      <td>23</td>\n",
       "      <td>30</td>\n",
       "      <td>...</td>\n",
       "      <td>0.0</td>\n",
       "      <td>0.0</td>\n",
       "      <td>1.0</td>\n",
       "      <td>0.0</td>\n",
       "      <td>1.0</td>\n",
       "      <td>0.0</td>\n",
       "      <td>0.0</td>\n",
       "      <td>0.0</td>\n",
       "      <td>0.0</td>\n",
       "      <td>0.0</td>\n",
       "    </tr>\n",
       "    <tr>\n",
       "      <th>4</th>\n",
       "      <td>13302</td>\n",
       "      <td>1.0</td>\n",
       "      <td>285</td>\n",
       "      <td>1</td>\n",
       "      <td>3</td>\n",
       "      <td>2019</td>\n",
       "      <td>16</td>\n",
       "      <td>50</td>\n",
       "      <td>21</td>\n",
       "      <td>35</td>\n",
       "      <td>...</td>\n",
       "      <td>0.0</td>\n",
       "      <td>0.0</td>\n",
       "      <td>0.0</td>\n",
       "      <td>0.0</td>\n",
       "      <td>0.0</td>\n",
       "      <td>0.0</td>\n",
       "      <td>0.0</td>\n",
       "      <td>0.0</td>\n",
       "      <td>0.0</td>\n",
       "      <td>1.0</td>\n",
       "    </tr>\n",
       "  </tbody>\n",
       "</table>\n",
       "<p>5 rows × 27 columns</p>\n",
       "</div>"
      ],
      "text/plain": [
       "   Price  Total_Stops_cleaned  Duration_total_mins  Journey_Date  \\\n",
       "0   3897                  0.0                  170            24   \n",
       "1   7662                  2.0                  445             1   \n",
       "2  13882                  2.0                 1140             9   \n",
       "3   6218                  1.0                  325            12   \n",
       "4  13302                  1.0                  285             1   \n",
       "\n",
       "   Journey_Month  Journey_Year  Dep_hour  Dep_min  Arrival_hour  Arrival_min  \\\n",
       "0              3          2019        22       20             1           10   \n",
       "1              5          2019         5       50            13           15   \n",
       "2              6          2019         9       25             4           25   \n",
       "3              5          2019        18        5            23           30   \n",
       "4              3          2019        16       50            21           35   \n",
       "\n",
       "   ...  Source_Chennai  Source_Delhi  Source_Kolkata  Source_Mumbai  \\\n",
       "0  ...             0.0           0.0             0.0            0.0   \n",
       "1  ...             0.0           0.0             1.0            0.0   \n",
       "2  ...             0.0           1.0             0.0            0.0   \n",
       "3  ...             0.0           0.0             1.0            0.0   \n",
       "4  ...             0.0           0.0             0.0            0.0   \n",
       "\n",
       "   Destination_Banglore  Destination_Cochin  Destination_Delhi  \\\n",
       "0                   0.0                 0.0                0.0   \n",
       "1                   1.0                 0.0                0.0   \n",
       "2                   0.0                 1.0                0.0   \n",
       "3                   1.0                 0.0                0.0   \n",
       "4                   0.0                 0.0                0.0   \n",
       "\n",
       "   Destination_Hyderabad  Destination_Kolkata  Destination_New Delhi  \n",
       "0                    0.0                  0.0                    1.0  \n",
       "1                    0.0                  0.0                    0.0  \n",
       "2                    0.0                  0.0                    0.0  \n",
       "3                    0.0                  0.0                    0.0  \n",
       "4                    0.0                  0.0                    1.0  \n",
       "\n",
       "[5 rows x 27 columns]"
      ]
     },
     "execution_count": 52,
     "metadata": {},
     "output_type": "execute_result"
    }
   ],
   "source": [
    "encoded_data_final.head()"
   ]
  },
  {
   "cell_type": "code",
   "execution_count": 53,
   "id": "fc977a67",
   "metadata": {},
   "outputs": [
    {
     "name": "stdout",
     "output_type": "stream",
     "text": [
      "<class 'pandas.core.frame.DataFrame'>\n",
      "RangeIndex: 10683 entries, 0 to 10682\n",
      "Data columns (total 27 columns):\n",
      " #   Column                     Non-Null Count  Dtype  \n",
      "---  ------                     --------------  -----  \n",
      " 0   Price                      10683 non-null  int64  \n",
      " 1   Total_Stops_cleaned        10683 non-null  float64\n",
      " 2   Duration_total_mins        10683 non-null  int64  \n",
      " 3   Journey_Date               10683 non-null  int64  \n",
      " 4   Journey_Month              10683 non-null  int64  \n",
      " 5   Journey_Year               10683 non-null  int64  \n",
      " 6   Dep_hour                   10683 non-null  int64  \n",
      " 7   Dep_min                    10683 non-null  int64  \n",
      " 8   Arrival_hour               10683 non-null  int64  \n",
      " 9   Arrival_min                10683 non-null  int64  \n",
      " 10  Airline_Air India          10683 non-null  float64\n",
      " 11  Airline_IndiGo             10683 non-null  float64\n",
      " 12  Airline_Jet Airways        10683 non-null  float64\n",
      " 13  Airline_Multiple carriers  10683 non-null  float64\n",
      " 14  Airline_Other              10683 non-null  float64\n",
      " 15  Airline_SpiceJet           10683 non-null  float64\n",
      " 16  Source_Banglore            10683 non-null  float64\n",
      " 17  Source_Chennai             10683 non-null  float64\n",
      " 18  Source_Delhi               10683 non-null  float64\n",
      " 19  Source_Kolkata             10683 non-null  float64\n",
      " 20  Source_Mumbai              10683 non-null  float64\n",
      " 21  Destination_Banglore       10683 non-null  float64\n",
      " 22  Destination_Cochin         10683 non-null  float64\n",
      " 23  Destination_Delhi          10683 non-null  float64\n",
      " 24  Destination_Hyderabad      10683 non-null  float64\n",
      " 25  Destination_Kolkata        10683 non-null  float64\n",
      " 26  Destination_New Delhi      10683 non-null  float64\n",
      "dtypes: float64(18), int64(9)\n",
      "memory usage: 2.2 MB\n"
     ]
    }
   ],
   "source": [
    "encoded_data_final.info()"
   ]
  },
  {
   "cell_type": "markdown",
   "id": "18f8019b",
   "metadata": {},
   "source": [
    "Model Training of the DataSet"
   ]
  },
  {
   "cell_type": "code",
   "execution_count": 54,
   "id": "b79f8917",
   "metadata": {},
   "outputs": [],
   "source": [
    "from sklearn.model_selection import train_test_split"
   ]
  },
  {
   "cell_type": "code",
   "execution_count": 55,
   "id": "37dc7a85",
   "metadata": {},
   "outputs": [],
   "source": [
    "train_data, test_data = train_test_split(encoded_data_final, test_size=0.2)"
   ]
  },
  {
   "cell_type": "code",
   "execution_count": 56,
   "id": "5e1a7fd8",
   "metadata": {},
   "outputs": [
    {
     "name": "stdout",
     "output_type": "stream",
     "text": [
      "(8546, 27)\n",
      "(2137, 27)\n",
      "(10683, 27)\n"
     ]
    }
   ],
   "source": [
    "print(train_data.shape)\n",
    "print(test_data.shape)\n",
    "print(encoded_data_final.shape)"
   ]
  },
  {
   "cell_type": "code",
   "execution_count": 57,
   "id": "5c9a5c20",
   "metadata": {},
   "outputs": [],
   "source": [
    "X = encoded_data_final.drop('Price', axis=1)\n"
   ]
  },
  {
   "cell_type": "code",
   "execution_count": 58,
   "id": "b003e0d2",
   "metadata": {},
   "outputs": [
    {
     "data": {
      "application/vnd.microsoft.datawrangler.viewer.v0+json": {
       "columns": [
        {
         "name": "index",
         "rawType": "int64",
         "type": "integer"
        },
        {
         "name": "Total_Stops_cleaned",
         "rawType": "float64",
         "type": "float"
        },
        {
         "name": "Duration_total_mins",
         "rawType": "int64",
         "type": "integer"
        },
        {
         "name": "Journey_Date",
         "rawType": "int64",
         "type": "integer"
        },
        {
         "name": "Journey_Month",
         "rawType": "int64",
         "type": "integer"
        },
        {
         "name": "Journey_Year",
         "rawType": "int64",
         "type": "integer"
        },
        {
         "name": "Dep_hour",
         "rawType": "int64",
         "type": "integer"
        },
        {
         "name": "Dep_min",
         "rawType": "int64",
         "type": "integer"
        },
        {
         "name": "Arrival_hour",
         "rawType": "int64",
         "type": "integer"
        },
        {
         "name": "Arrival_min",
         "rawType": "int64",
         "type": "integer"
        },
        {
         "name": "Airline_Air India",
         "rawType": "float64",
         "type": "float"
        },
        {
         "name": "Airline_IndiGo",
         "rawType": "float64",
         "type": "float"
        },
        {
         "name": "Airline_Jet Airways",
         "rawType": "float64",
         "type": "float"
        },
        {
         "name": "Airline_Multiple carriers",
         "rawType": "float64",
         "type": "float"
        },
        {
         "name": "Airline_Other",
         "rawType": "float64",
         "type": "float"
        },
        {
         "name": "Airline_SpiceJet",
         "rawType": "float64",
         "type": "float"
        },
        {
         "name": "Source_Banglore",
         "rawType": "float64",
         "type": "float"
        },
        {
         "name": "Source_Chennai",
         "rawType": "float64",
         "type": "float"
        },
        {
         "name": "Source_Delhi",
         "rawType": "float64",
         "type": "float"
        },
        {
         "name": "Source_Kolkata",
         "rawType": "float64",
         "type": "float"
        },
        {
         "name": "Source_Mumbai",
         "rawType": "float64",
         "type": "float"
        },
        {
         "name": "Destination_Banglore",
         "rawType": "float64",
         "type": "float"
        },
        {
         "name": "Destination_Cochin",
         "rawType": "float64",
         "type": "float"
        },
        {
         "name": "Destination_Delhi",
         "rawType": "float64",
         "type": "float"
        },
        {
         "name": "Destination_Hyderabad",
         "rawType": "float64",
         "type": "float"
        },
        {
         "name": "Destination_Kolkata",
         "rawType": "float64",
         "type": "float"
        },
        {
         "name": "Destination_New Delhi",
         "rawType": "float64",
         "type": "float"
        }
       ],
       "ref": "761b92e2-27c7-4809-9c46-904cc3a04be0",
       "rows": [
        [
         "0",
         "0.0",
         "170",
         "24",
         "3",
         "2019",
         "22",
         "20",
         "1",
         "10",
         "0.0",
         "1.0",
         "0.0",
         "0.0",
         "0.0",
         "0.0",
         "1.0",
         "0.0",
         "0.0",
         "0.0",
         "0.0",
         "0.0",
         "0.0",
         "0.0",
         "0.0",
         "0.0",
         "1.0"
        ],
        [
         "1",
         "2.0",
         "445",
         "1",
         "5",
         "2019",
         "5",
         "50",
         "13",
         "15",
         "1.0",
         "0.0",
         "0.0",
         "0.0",
         "0.0",
         "0.0",
         "0.0",
         "0.0",
         "0.0",
         "1.0",
         "0.0",
         "1.0",
         "0.0",
         "0.0",
         "0.0",
         "0.0",
         "0.0"
        ],
        [
         "2",
         "2.0",
         "1140",
         "9",
         "6",
         "2019",
         "9",
         "25",
         "4",
         "25",
         "0.0",
         "0.0",
         "1.0",
         "0.0",
         "0.0",
         "0.0",
         "0.0",
         "0.0",
         "1.0",
         "0.0",
         "0.0",
         "0.0",
         "1.0",
         "0.0",
         "0.0",
         "0.0",
         "0.0"
        ],
        [
         "3",
         "1.0",
         "325",
         "12",
         "5",
         "2019",
         "18",
         "5",
         "23",
         "30",
         "0.0",
         "1.0",
         "0.0",
         "0.0",
         "0.0",
         "0.0",
         "0.0",
         "0.0",
         "0.0",
         "1.0",
         "0.0",
         "1.0",
         "0.0",
         "0.0",
         "0.0",
         "0.0",
         "0.0"
        ],
        [
         "4",
         "1.0",
         "285",
         "1",
         "3",
         "2019",
         "16",
         "50",
         "21",
         "35",
         "0.0",
         "1.0",
         "0.0",
         "0.0",
         "0.0",
         "0.0",
         "1.0",
         "0.0",
         "0.0",
         "0.0",
         "0.0",
         "0.0",
         "0.0",
         "0.0",
         "0.0",
         "0.0",
         "1.0"
        ]
       ],
       "shape": {
        "columns": 26,
        "rows": 5
       }
      },
      "text/html": [
       "<div>\n",
       "<style scoped>\n",
       "    .dataframe tbody tr th:only-of-type {\n",
       "        vertical-align: middle;\n",
       "    }\n",
       "\n",
       "    .dataframe tbody tr th {\n",
       "        vertical-align: top;\n",
       "    }\n",
       "\n",
       "    .dataframe thead th {\n",
       "        text-align: right;\n",
       "    }\n",
       "</style>\n",
       "<table border=\"1\" class=\"dataframe\">\n",
       "  <thead>\n",
       "    <tr style=\"text-align: right;\">\n",
       "      <th></th>\n",
       "      <th>Total_Stops_cleaned</th>\n",
       "      <th>Duration_total_mins</th>\n",
       "      <th>Journey_Date</th>\n",
       "      <th>Journey_Month</th>\n",
       "      <th>Journey_Year</th>\n",
       "      <th>Dep_hour</th>\n",
       "      <th>Dep_min</th>\n",
       "      <th>Arrival_hour</th>\n",
       "      <th>Arrival_min</th>\n",
       "      <th>Airline_Air India</th>\n",
       "      <th>...</th>\n",
       "      <th>Source_Chennai</th>\n",
       "      <th>Source_Delhi</th>\n",
       "      <th>Source_Kolkata</th>\n",
       "      <th>Source_Mumbai</th>\n",
       "      <th>Destination_Banglore</th>\n",
       "      <th>Destination_Cochin</th>\n",
       "      <th>Destination_Delhi</th>\n",
       "      <th>Destination_Hyderabad</th>\n",
       "      <th>Destination_Kolkata</th>\n",
       "      <th>Destination_New Delhi</th>\n",
       "    </tr>\n",
       "  </thead>\n",
       "  <tbody>\n",
       "    <tr>\n",
       "      <th>0</th>\n",
       "      <td>0.0</td>\n",
       "      <td>170</td>\n",
       "      <td>24</td>\n",
       "      <td>3</td>\n",
       "      <td>2019</td>\n",
       "      <td>22</td>\n",
       "      <td>20</td>\n",
       "      <td>1</td>\n",
       "      <td>10</td>\n",
       "      <td>0.0</td>\n",
       "      <td>...</td>\n",
       "      <td>0.0</td>\n",
       "      <td>0.0</td>\n",
       "      <td>0.0</td>\n",
       "      <td>0.0</td>\n",
       "      <td>0.0</td>\n",
       "      <td>0.0</td>\n",
       "      <td>0.0</td>\n",
       "      <td>0.0</td>\n",
       "      <td>0.0</td>\n",
       "      <td>1.0</td>\n",
       "    </tr>\n",
       "    <tr>\n",
       "      <th>1</th>\n",
       "      <td>2.0</td>\n",
       "      <td>445</td>\n",
       "      <td>1</td>\n",
       "      <td>5</td>\n",
       "      <td>2019</td>\n",
       "      <td>5</td>\n",
       "      <td>50</td>\n",
       "      <td>13</td>\n",
       "      <td>15</td>\n",
       "      <td>1.0</td>\n",
       "      <td>...</td>\n",
       "      <td>0.0</td>\n",
       "      <td>0.0</td>\n",
       "      <td>1.0</td>\n",
       "      <td>0.0</td>\n",
       "      <td>1.0</td>\n",
       "      <td>0.0</td>\n",
       "      <td>0.0</td>\n",
       "      <td>0.0</td>\n",
       "      <td>0.0</td>\n",
       "      <td>0.0</td>\n",
       "    </tr>\n",
       "    <tr>\n",
       "      <th>2</th>\n",
       "      <td>2.0</td>\n",
       "      <td>1140</td>\n",
       "      <td>9</td>\n",
       "      <td>6</td>\n",
       "      <td>2019</td>\n",
       "      <td>9</td>\n",
       "      <td>25</td>\n",
       "      <td>4</td>\n",
       "      <td>25</td>\n",
       "      <td>0.0</td>\n",
       "      <td>...</td>\n",
       "      <td>0.0</td>\n",
       "      <td>1.0</td>\n",
       "      <td>0.0</td>\n",
       "      <td>0.0</td>\n",
       "      <td>0.0</td>\n",
       "      <td>1.0</td>\n",
       "      <td>0.0</td>\n",
       "      <td>0.0</td>\n",
       "      <td>0.0</td>\n",
       "      <td>0.0</td>\n",
       "    </tr>\n",
       "    <tr>\n",
       "      <th>3</th>\n",
       "      <td>1.0</td>\n",
       "      <td>325</td>\n",
       "      <td>12</td>\n",
       "      <td>5</td>\n",
       "      <td>2019</td>\n",
       "      <td>18</td>\n",
       "      <td>5</td>\n",
       "      <td>23</td>\n",
       "      <td>30</td>\n",
       "      <td>0.0</td>\n",
       "      <td>...</td>\n",
       "      <td>0.0</td>\n",
       "      <td>0.0</td>\n",
       "      <td>1.0</td>\n",
       "      <td>0.0</td>\n",
       "      <td>1.0</td>\n",
       "      <td>0.0</td>\n",
       "      <td>0.0</td>\n",
       "      <td>0.0</td>\n",
       "      <td>0.0</td>\n",
       "      <td>0.0</td>\n",
       "    </tr>\n",
       "    <tr>\n",
       "      <th>4</th>\n",
       "      <td>1.0</td>\n",
       "      <td>285</td>\n",
       "      <td>1</td>\n",
       "      <td>3</td>\n",
       "      <td>2019</td>\n",
       "      <td>16</td>\n",
       "      <td>50</td>\n",
       "      <td>21</td>\n",
       "      <td>35</td>\n",
       "      <td>0.0</td>\n",
       "      <td>...</td>\n",
       "      <td>0.0</td>\n",
       "      <td>0.0</td>\n",
       "      <td>0.0</td>\n",
       "      <td>0.0</td>\n",
       "      <td>0.0</td>\n",
       "      <td>0.0</td>\n",
       "      <td>0.0</td>\n",
       "      <td>0.0</td>\n",
       "      <td>0.0</td>\n",
       "      <td>1.0</td>\n",
       "    </tr>\n",
       "  </tbody>\n",
       "</table>\n",
       "<p>5 rows × 26 columns</p>\n",
       "</div>"
      ],
      "text/plain": [
       "   Total_Stops_cleaned  Duration_total_mins  Journey_Date  Journey_Month  \\\n",
       "0                  0.0                  170            24              3   \n",
       "1                  2.0                  445             1              5   \n",
       "2                  2.0                 1140             9              6   \n",
       "3                  1.0                  325            12              5   \n",
       "4                  1.0                  285             1              3   \n",
       "\n",
       "   Journey_Year  Dep_hour  Dep_min  Arrival_hour  Arrival_min  \\\n",
       "0          2019        22       20             1           10   \n",
       "1          2019         5       50            13           15   \n",
       "2          2019         9       25             4           25   \n",
       "3          2019        18        5            23           30   \n",
       "4          2019        16       50            21           35   \n",
       "\n",
       "   Airline_Air India  ...  Source_Chennai  Source_Delhi  Source_Kolkata  \\\n",
       "0                0.0  ...             0.0           0.0             0.0   \n",
       "1                1.0  ...             0.0           0.0             1.0   \n",
       "2                0.0  ...             0.0           1.0             0.0   \n",
       "3                0.0  ...             0.0           0.0             1.0   \n",
       "4                0.0  ...             0.0           0.0             0.0   \n",
       "\n",
       "   Source_Mumbai  Destination_Banglore  Destination_Cochin  Destination_Delhi  \\\n",
       "0            0.0                   0.0                 0.0                0.0   \n",
       "1            0.0                   1.0                 0.0                0.0   \n",
       "2            0.0                   0.0                 1.0                0.0   \n",
       "3            0.0                   1.0                 0.0                0.0   \n",
       "4            0.0                   0.0                 0.0                0.0   \n",
       "\n",
       "   Destination_Hyderabad  Destination_Kolkata  Destination_New Delhi  \n",
       "0                    0.0                  0.0                    1.0  \n",
       "1                    0.0                  0.0                    0.0  \n",
       "2                    0.0                  0.0                    0.0  \n",
       "3                    0.0                  0.0                    0.0  \n",
       "4                    0.0                  0.0                    1.0  \n",
       "\n",
       "[5 rows x 26 columns]"
      ]
     },
     "execution_count": 58,
     "metadata": {},
     "output_type": "execute_result"
    }
   ],
   "source": [
    "X.head()"
   ]
  },
  {
   "cell_type": "code",
   "execution_count": 59,
   "id": "3c9c7100",
   "metadata": {},
   "outputs": [],
   "source": [
    "Y = encoded_data_final['Price']"
   ]
  },
  {
   "cell_type": "code",
   "execution_count": 61,
   "id": "370abc61",
   "metadata": {},
   "outputs": [
    {
     "name": "stdout",
     "output_type": "stream",
     "text": [
      "<class 'pandas.core.series.Series'>\n",
      "RangeIndex: 10683 entries, 0 to 10682\n",
      "Series name: Price\n",
      "Non-Null Count  Dtype\n",
      "--------------  -----\n",
      "10683 non-null  int64\n",
      "dtypes: int64(1)\n",
      "memory usage: 83.6 KB\n"
     ]
    }
   ],
   "source": [
    "encoded_data_final['Price'].info()"
   ]
  },
  {
   "cell_type": "code",
   "execution_count": null,
   "id": "f42b3039",
   "metadata": {},
   "outputs": [
    {
     "data": {
      "application/vnd.microsoft.datawrangler.viewer.v0+json": {
       "columns": [
        {
         "name": "index",
         "rawType": "int64",
         "type": "integer"
        },
        {
         "name": "Price",
         "rawType": "int64",
         "type": "integer"
        }
       ],
       "ref": "005659e9-1013-4dec-a8ba-04d86f0f4821",
       "rows": [
        [
         "0",
         "3897"
        ],
        [
         "1",
         "7662"
        ],
        [
         "2",
         "13882"
        ],
        [
         "3",
         "6218"
        ],
        [
         "4",
         "13302"
        ],
        [
         "5",
         "3873"
        ],
        [
         "6",
         "11087"
        ],
        [
         "7",
         "22270"
        ],
        [
         "8",
         "11087"
        ],
        [
         "9",
         "8625"
        ],
        [
         "10",
         "8907"
        ],
        [
         "11",
         "4174"
        ],
        [
         "12",
         "4667"
        ],
        [
         "13",
         "9663"
        ],
        [
         "14",
         "4804"
        ],
        [
         "15",
         "14011"
        ],
        [
         "16",
         "5830"
        ],
        [
         "17",
         "10262"
        ],
        [
         "18",
         "13381"
        ],
        [
         "19",
         "12898"
        ],
        [
         "20",
         "19495"
        ],
        [
         "21",
         "6955"
        ],
        [
         "22",
         "3943"
        ],
        [
         "23",
         "4823"
        ],
        [
         "24",
         "7757"
        ],
        [
         "25",
         "13292"
        ],
        [
         "26",
         "8238"
        ],
        [
         "27",
         "7682"
        ],
        [
         "28",
         "4668"
        ],
        [
         "29",
         "3687"
        ],
        [
         "30",
         "3687"
        ],
        [
         "31",
         "13227"
        ],
        [
         "32",
         "4423"
        ],
        [
         "33",
         "10919"
        ],
        [
         "34",
         "12373"
        ],
        [
         "35",
         "5894"
        ],
        [
         "36",
         "4649"
        ],
        [
         "37",
         "6245"
        ],
        [
         "38",
         "19225"
        ],
        [
         "39",
         "14924"
        ],
        [
         "40",
         "9646"
        ],
        [
         "41",
         "8714"
        ],
        [
         "42",
         "12373"
        ],
        [
         "43",
         "3383"
        ],
        [
         "44",
         "13062"
        ],
        [
         "45",
         "3527"
        ],
        [
         "46",
         "3943"
        ],
        [
         "47",
         "4667"
        ],
        [
         "48",
         "6117"
        ],
        [
         "49",
         "11150"
        ]
       ],
       "shape": {
        "columns": 1,
        "rows": 10683
       }
      },
      "text/plain": [
       "0         3897\n",
       "1         7662\n",
       "2        13882\n",
       "3         6218\n",
       "4        13302\n",
       "         ...  \n",
       "10678     4107\n",
       "10679     4145\n",
       "10680     7229\n",
       "10681    12648\n",
       "10682    11753\n",
       "Name: Price, Length: 10683, dtype: int64"
      ]
     },
     "execution_count": 82,
     "metadata": {},
     "output_type": "execute_result"
    }
   ],
   "source": [
    "Y['Price'].astype(int)"
   ]
  },
  {
   "cell_type": "code",
   "execution_count": 63,
   "id": "19ee1d0b",
   "metadata": {},
   "outputs": [
    {
     "name": "stdout",
     "output_type": "stream",
     "text": [
      "0     3897\n",
      "1     7662\n",
      "2    13882\n",
      "3     6218\n",
      "4    13302\n",
      "Name: Price, dtype: int64\n"
     ]
    }
   ],
   "source": [
    "print(encoded_data_final['Price'].head())"
   ]
  },
  {
   "cell_type": "code",
   "execution_count": 64,
   "id": "bf3d1e81",
   "metadata": {},
   "outputs": [
    {
     "name": "stdout",
     "output_type": "stream",
     "text": [
      "<class 'pandas.core.series.Series'>\n",
      "RangeIndex: 10683 entries, 0 to 10682\n",
      "Series name: Price\n",
      "Non-Null Count  Dtype\n",
      "--------------  -----\n",
      "10683 non-null  int64\n",
      "dtypes: int64(1)\n",
      "memory usage: 83.6 KB\n"
     ]
    }
   ],
   "source": [
    "Y.info()"
   ]
  },
  {
   "cell_type": "code",
   "execution_count": 65,
   "id": "b1996723",
   "metadata": {},
   "outputs": [],
   "source": [
    "X_train, X_test, Y_train, Y_test = train_test_split(X, Y, test_size=0.2, random_state=42)"
   ]
  },
  {
   "cell_type": "code",
   "execution_count": 66,
   "id": "e3f049d0",
   "metadata": {},
   "outputs": [
    {
     "name": "stdout",
     "output_type": "stream",
     "text": [
      "8546\n",
      "8546\n",
      "2137\n",
      "2137\n"
     ]
    }
   ],
   "source": [
    "print(len(X_train))\n",
    "print(len(Y_train))\n",
    "print(len(X_test))\n",
    "print(len(Y_test))"
   ]
  },
  {
   "cell_type": "code",
   "execution_count": 67,
   "id": "7309e4f5",
   "metadata": {},
   "outputs": [],
   "source": [
    "from sklearn.preprocessing import StandardScaler\n",
    "\n",
    "scaler = StandardScaler()\n",
    "X_train_scaled = scaler.fit_transform(X_train)\n",
    "X_test_scaled = scaler.fit_transform(X_test)"
   ]
  },
  {
   "cell_type": "code",
   "execution_count": 68,
   "id": "e649aed0",
   "metadata": {},
   "outputs": [],
   "source": [
    "from sklearn.linear_model import LinearRegression\n",
    "\n",
    "model=LinearRegression()\n",
    "model.fit(X_train, Y_train)\n",
    "y_pred = model.predict(X_test)"
   ]
  },
  {
   "cell_type": "code",
   "execution_count": 70,
   "id": "2cfcdc9f",
   "metadata": {},
   "outputs": [
    {
     "name": "stdout",
     "output_type": "stream",
     "text": [
      "Report for the Linear Regression Model\n",
      "\n",
      "Mean Absolute Error (MAE): 2036.8269341621203\n",
      "Root Mean Squared Error (RMSE): 3043.035075571484\n",
      "R² Score: 0.5624609089432415\n"
     ]
    }
   ],
   "source": [
    "from sklearn.metrics import mean_absolute_error, root_mean_squared_error, r2_score\n",
    "\n",
    "mae = mean_absolute_error(Y_test, y_pred)\n",
    "rmse = root_mean_squared_error(Y_test, y_pred)\n",
    "r2 = r2_score(Y_test, y_pred)\n",
    "\n",
    "print(\"Report for the Linear Regression Model\\n\")\n",
    "\n",
    "print(\"Mean Absolute Error (MAE):\", mae)\n",
    "print(\"Root Mean Squared Error (RMSE):\", rmse)\n",
    "print(\"R² Score:\", r2)\n"
   ]
  },
  {
   "cell_type": "markdown",
   "id": "2a3f576c",
   "metadata": {},
   "source": [
    "Using Random Forest Model"
   ]
  },
  {
   "cell_type": "code",
   "execution_count": 71,
   "id": "39f1af69",
   "metadata": {},
   "outputs": [],
   "source": [
    "from sklearn.ensemble import RandomForestRegressor\n",
    "\n",
    "model_rfr = RandomForestRegressor()\n",
    "model_rfr.fit(X_train, Y_train)\n",
    "y_pred_rfr=model_rfr.predict(X_test)"
   ]
  },
  {
   "cell_type": "code",
   "execution_count": 72,
   "id": "296e7b40",
   "metadata": {},
   "outputs": [
    {
     "name": "stdout",
     "output_type": "stream",
     "text": [
      "Report for the Random Forest Regressor Model\n",
      "\n",
      "Mean Absolute Error (MAE): 1201.0206955945578\n",
      "Root Mean Squared Error (RMSE): 2165.112256932727\n",
      "R² Score: 0.7785050744842684\n"
     ]
    }
   ],
   "source": [
    "print(\"Report for the Random Forest Regressor Model\\n\")\n",
    "\n",
    "mae_rfr = mean_absolute_error(Y_test, y_pred_rfr)\n",
    "rmse_rfr = root_mean_squared_error(Y_test, y_pred_rfr)\n",
    "r2_rfr = r2_score(Y_test, y_pred_rfr)\n",
    "\n",
    "print(\"Mean Absolute Error (MAE):\", mae_rfr)\n",
    "print(\"Root Mean Squared Error (RMSE):\", rmse_rfr)\n",
    "print(\"R² Score:\", r2_rfr)\n",
    "\n"
   ]
  },
  {
   "cell_type": "markdown",
   "id": "a8b32165",
   "metadata": {},
   "source": [
    "Static Prediction using Test Sample"
   ]
  },
  {
   "cell_type": "code",
   "execution_count": 94,
   "id": "36c6039d",
   "metadata": {},
   "outputs": [
    {
     "data": {
      "application/vnd.microsoft.datawrangler.viewer.v0+json": {
       "columns": [
        {
         "name": "index",
         "rawType": "int64",
         "type": "integer"
        },
        {
         "name": "Total_Stops_cleaned",
         "rawType": "float64",
         "type": "float"
        },
        {
         "name": "Duration_total_mins",
         "rawType": "int64",
         "type": "integer"
        },
        {
         "name": "Journey_Date",
         "rawType": "int64",
         "type": "integer"
        },
        {
         "name": "Journey_Month",
         "rawType": "int64",
         "type": "integer"
        },
        {
         "name": "Journey_Year",
         "rawType": "int64",
         "type": "integer"
        },
        {
         "name": "Dep_hour",
         "rawType": "int64",
         "type": "integer"
        },
        {
         "name": "Dep_min",
         "rawType": "int64",
         "type": "integer"
        },
        {
         "name": "Arrival_hour",
         "rawType": "int64",
         "type": "integer"
        },
        {
         "name": "Arrival_min",
         "rawType": "int64",
         "type": "integer"
        },
        {
         "name": "Airline_Air India",
         "rawType": "float64",
         "type": "float"
        },
        {
         "name": "Airline_IndiGo",
         "rawType": "float64",
         "type": "float"
        },
        {
         "name": "Airline_Jet Airways",
         "rawType": "float64",
         "type": "float"
        },
        {
         "name": "Airline_Multiple carriers",
         "rawType": "float64",
         "type": "float"
        },
        {
         "name": "Airline_Other",
         "rawType": "float64",
         "type": "float"
        },
        {
         "name": "Airline_SpiceJet",
         "rawType": "float64",
         "type": "float"
        },
        {
         "name": "Source_Banglore",
         "rawType": "float64",
         "type": "float"
        },
        {
         "name": "Source_Chennai",
         "rawType": "float64",
         "type": "float"
        },
        {
         "name": "Source_Delhi",
         "rawType": "float64",
         "type": "float"
        },
        {
         "name": "Source_Kolkata",
         "rawType": "float64",
         "type": "float"
        },
        {
         "name": "Source_Mumbai",
         "rawType": "float64",
         "type": "float"
        },
        {
         "name": "Destination_Banglore",
         "rawType": "float64",
         "type": "float"
        },
        {
         "name": "Destination_Cochin",
         "rawType": "float64",
         "type": "float"
        },
        {
         "name": "Destination_Delhi",
         "rawType": "float64",
         "type": "float"
        },
        {
         "name": "Destination_Hyderabad",
         "rawType": "float64",
         "type": "float"
        },
        {
         "name": "Destination_Kolkata",
         "rawType": "float64",
         "type": "float"
        },
        {
         "name": "Destination_New Delhi",
         "rawType": "float64",
         "type": "float"
        }
       ],
       "ref": "c89a5cbe-a619-4e04-8b1b-108922a90d3a",
       "rows": [
        [
         "5412",
         "0.0",
         "170",
         "15",
         "5",
         "2019",
         "4",
         "0",
         "6",
         "50",
         "0.0",
         "1.0",
         "0.0",
         "0.0",
         "0.0",
         "0.0",
         "1.0",
         "0.0",
         "0.0",
         "0.0",
         "0.0",
         "0.0",
         "0.0",
         "1.0",
         "0.0",
         "0.0",
         "0.0"
        ]
       ],
       "shape": {
        "columns": 26,
        "rows": 1
       }
      },
      "text/html": [
       "<div>\n",
       "<style scoped>\n",
       "    .dataframe tbody tr th:only-of-type {\n",
       "        vertical-align: middle;\n",
       "    }\n",
       "\n",
       "    .dataframe tbody tr th {\n",
       "        vertical-align: top;\n",
       "    }\n",
       "\n",
       "    .dataframe thead th {\n",
       "        text-align: right;\n",
       "    }\n",
       "</style>\n",
       "<table border=\"1\" class=\"dataframe\">\n",
       "  <thead>\n",
       "    <tr style=\"text-align: right;\">\n",
       "      <th></th>\n",
       "      <th>Total_Stops_cleaned</th>\n",
       "      <th>Duration_total_mins</th>\n",
       "      <th>Journey_Date</th>\n",
       "      <th>Journey_Month</th>\n",
       "      <th>Journey_Year</th>\n",
       "      <th>Dep_hour</th>\n",
       "      <th>Dep_min</th>\n",
       "      <th>Arrival_hour</th>\n",
       "      <th>Arrival_min</th>\n",
       "      <th>Airline_Air India</th>\n",
       "      <th>...</th>\n",
       "      <th>Source_Chennai</th>\n",
       "      <th>Source_Delhi</th>\n",
       "      <th>Source_Kolkata</th>\n",
       "      <th>Source_Mumbai</th>\n",
       "      <th>Destination_Banglore</th>\n",
       "      <th>Destination_Cochin</th>\n",
       "      <th>Destination_Delhi</th>\n",
       "      <th>Destination_Hyderabad</th>\n",
       "      <th>Destination_Kolkata</th>\n",
       "      <th>Destination_New Delhi</th>\n",
       "    </tr>\n",
       "  </thead>\n",
       "  <tbody>\n",
       "    <tr>\n",
       "      <th>5412</th>\n",
       "      <td>0.0</td>\n",
       "      <td>170</td>\n",
       "      <td>15</td>\n",
       "      <td>5</td>\n",
       "      <td>2019</td>\n",
       "      <td>4</td>\n",
       "      <td>0</td>\n",
       "      <td>6</td>\n",
       "      <td>50</td>\n",
       "      <td>0.0</td>\n",
       "      <td>...</td>\n",
       "      <td>0.0</td>\n",
       "      <td>0.0</td>\n",
       "      <td>0.0</td>\n",
       "      <td>0.0</td>\n",
       "      <td>0.0</td>\n",
       "      <td>0.0</td>\n",
       "      <td>1.0</td>\n",
       "      <td>0.0</td>\n",
       "      <td>0.0</td>\n",
       "      <td>0.0</td>\n",
       "    </tr>\n",
       "  </tbody>\n",
       "</table>\n",
       "<p>1 rows × 26 columns</p>\n",
       "</div>"
      ],
      "text/plain": [
       "      Total_Stops_cleaned  Duration_total_mins  Journey_Date  Journey_Month  \\\n",
       "5412                  0.0                  170            15              5   \n",
       "\n",
       "      Journey_Year  Dep_hour  Dep_min  Arrival_hour  Arrival_min  \\\n",
       "5412          2019         4        0             6           50   \n",
       "\n",
       "      Airline_Air India  ...  Source_Chennai  Source_Delhi  Source_Kolkata  \\\n",
       "5412                0.0  ...             0.0           0.0             0.0   \n",
       "\n",
       "      Source_Mumbai  Destination_Banglore  Destination_Cochin  \\\n",
       "5412            0.0                   0.0                 0.0   \n",
       "\n",
       "      Destination_Delhi  Destination_Hyderabad  Destination_Kolkata  \\\n",
       "5412                1.0                    0.0                  0.0   \n",
       "\n",
       "      Destination_New Delhi  \n",
       "5412                    0.0  \n",
       "\n",
       "[1 rows x 26 columns]"
      ]
     },
     "execution_count": 94,
     "metadata": {},
     "output_type": "execute_result"
    }
   ],
   "source": [
    "index = 10\n",
    "sample_input = X_test.iloc[[index]]\n",
    "sample_input\n"
   ]
  },
  {
   "cell_type": "code",
   "execution_count": 107,
   "id": "7701153d",
   "metadata": {},
   "outputs": [],
   "source": [
    "predicted_price_lr = model.predict(sample_input)[0]\n",
    "actual_price = Y_test.iloc[index]\n"
   ]
  },
  {
   "cell_type": "code",
   "execution_count": null,
   "id": "1c311678",
   "metadata": {},
   "outputs": [
    {
     "name": "stdout",
     "output_type": "stream",
     "text": [
      "Price Prediction using LInear Regression Model\n",
      "\n",
      "Predicted Flight Price : ₹3573.48\n",
      "Actual Flight Price    : ₹3943\n",
      "The Price difference is: ₹369.52\n"
     ]
    }
   ],
   "source": [
    "print(\"Price Prediction using LInear Regression Model\\n\")\n",
    "print(f\"Predicted Flight Price : ₹{round(predicted_price_lr, 2)}\")\n",
    "print(f\"Actual Flight Price    : ₹{round(actual_price, 2)}\")\n",
    "print(f\"The Price difference is: ₹{round(actual_price-predicted_price_lr, 2)}\")\n"
   ]
  },
  {
   "cell_type": "code",
   "execution_count": 109,
   "id": "5986c64c",
   "metadata": {},
   "outputs": [],
   "source": [
    "predicted_price_rfr = model_rfr.predict(sample_input)[0]"
   ]
  },
  {
   "cell_type": "code",
   "execution_count": 153,
   "id": "df3d5427",
   "metadata": {},
   "outputs": [
    {
     "name": "stdout",
     "output_type": "stream",
     "text": [
      "Price Prediction using Random Forest Regression Model\n",
      "\n",
      "Predicted Flight Price : ₹4189.01\n",
      "Actual Flight Price    : ₹3943\n",
      "The Price difference is: ₹-246.01\n"
     ]
    }
   ],
   "source": [
    "print(\"Price Prediction using Random Forest Regression Model\\n\")\n",
    "print(f\"Predicted Flight Price : ₹{round(predicted_price_rfr, 2)}\")\n",
    "print(f\"Actual Flight Price    : ₹{round(actual_price, 2)}\")\n",
    "print(f\"The Price difference is: ₹{round(actual_price-predicted_price_rfr, 2)}\")"
   ]
  },
  {
   "cell_type": "markdown",
   "id": "086d6f45",
   "metadata": {},
   "source": [
    "Plotting the Comparison"
   ]
  },
  {
   "cell_type": "code",
   "execution_count": 111,
   "id": "437c39e8",
   "metadata": {},
   "outputs": [],
   "source": [
    "compared_df = pd.DataFrame({\n",
    "    'Model' : ['Actual', 'Linear Regression', 'Random Forest Regressor'],\n",
    "    'Price' : [actual_price, predicted_price_lr, predicted_price_rfr]\n",
    "})"
   ]
  },
  {
   "cell_type": "code",
   "execution_count": 155,
   "id": "bba4dd3d",
   "metadata": {},
   "outputs": [
    {
     "data": {
      "image/png": "[encoded data removed]",
      "text/plain": [
       "<Figure size 600x400 with 1 Axes>"
      ]
     },
     "metadata": {},
     "output_type": "display_data"
    }
   ],
   "source": [
    "import seaborn as sns\n",
    "import matplotlib.pyplot as plt\n",
    "\n",
    "plt.figure(figsize=(6,4))\n",
    "sns.barplot(data=compared_df, x='Model', y='Price', hue='Model',\n",
    "            legend=False, palette=['green', 'dodgerblue', 'salmon'] )\n",
    "plt.title(\"Comparison of Price using Different Models\")\n",
    "plt.tight_layout()\n",
    "plt.xlabel('Model')\n",
    "plt.show()\n"
   ]
  },
  {
   "cell_type": "code",
   "execution_count": null,
   "id": "d9537755",
   "metadata": {},
   "outputs": [],
   "source": []
  }
 ],
 "metadata": {
  "kernelspec": {
   "display_name": "Python 3",
   "language": "python",
   "name": "python3"
  },
  "language_info": {
   "codemirror_mode": {
    "name": "ipython",
    "version": 3
   },
   "file_extension": ".py",
   "mimetype": "text/x-python",
   "name": "python",
   "nbconvert_exporter": "python",
   "pygments_lexer": "ipython3",
   "version": "3.12.11"
  }
 },
 "nbformat": 4,
 "nbformat_minor": 5
}
